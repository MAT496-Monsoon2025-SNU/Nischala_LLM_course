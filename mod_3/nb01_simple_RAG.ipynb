{
 "cells": [
  {
   "cell_type": "code",
   "execution_count": 1,
   "id": "65ec513b",
   "metadata": {},
   "outputs": [
    {
     "data": {
      "text/plain": [
       "True"
      ]
     },
     "execution_count": 1,
     "metadata": {},
     "output_type": "execute_result"
    }
   ],
   "source": [
    "import os\n",
    "from dotenv import load_dotenv\n",
    "load_dotenv()"
   ]
  },
  {
   "cell_type": "markdown",
   "id": "6e45e179",
   "metadata": {},
   "source": [
    "## What is RAG (retrieval augmented generation)?\n",
    "Basically, shoving lot of extra information in the prompt."
   ]
  },
  {
   "cell_type": "code",
   "execution_count": 2,
   "id": "52bc9487",
   "metadata": {},
   "outputs": [
    {
     "name": "stdout",
     "output_type": "stream",
     "text": [
      "content=\"Ajit is Preeti's brother. He is also the brother of Sweta. There is no other information about any other brother of Preeti.\" additional_kwargs={} response_metadata={'token_usage': {'completion_tokens': 33, 'prompt_tokens': 119, 'total_tokens': 152, 'completion_time': 0.132235416, 'prompt_time': 0.01627205, 'queue_time': 0.0595006, 'total_time': 0.148507466}, 'model_name': 'llama-3.3-70b-versatile', 'system_fingerprint': 'fp_3f3b593e33', 'service_tier': 'on_demand', 'finish_reason': 'stop', 'logprobs': None} id='run--bbc5be90-688f-4bfd-8524-2c52535070f1-0' usage_metadata={'input_tokens': 119, 'output_tokens': 33, 'total_tokens': 152}\n"
     ]
    }
   ],
   "source": [
    "# Example \n",
    "\n",
    "from langchain.chat_models import init_chat_model\n",
    "model = init_chat_model(\"llama-3.3-70b-versatile\", model_provider=\"groq\")\n",
    "\n",
    "prompt_template = \"\"\"You are an assistant for question-answering tasks. Use the following pieces of retrieved context to answer the question. If you don't know the answer, just say that you don't know. Use three sentences maximum and keep the answer concise.\n",
    "Question: {question} \n",
    "Context: {context} \n",
    "Answer:\"\"\"\n",
    "\n",
    "response = model.invoke(\n",
    "    prompt_template.format(\n",
    "        context=\"Ajit has two sisters, Preeti and Sweta. Ajit is male.\",\n",
    "        question=\"Who is Preeti's bother?\"         \n",
    "    ))\n",
    "\n",
    "print(response)"
   ]
  },
  {
   "cell_type": "code",
   "execution_count": 3,
   "id": "475aef4c",
   "metadata": {},
   "outputs": [
    {
     "name": "stdout",
     "output_type": "stream",
     "text": [
      "Ajit is Preeti's brother. He is also the brother of Sweta. This is stated in the given context where Ajit is mentioned as the male sibling of Preeti and Sweta.\n"
     ]
    }
   ],
   "source": [
    "print(response.content)"
   ]
  },
  {
   "cell_type": "markdown",
   "id": "33703cf0",
   "metadata": {},
   "source": [
    ">RAG is all about cleverly pushing is as much information in the context with minimum possible tokens"
   ]
  },
  {
   "cell_type": "code",
   "execution_count": 3,
   "id": "0b38ad4e",
   "metadata": {},
   "outputs": [],
   "source": [
    "# little non-trival RAG example\n",
    "\n",
    "# grab a novel\n",
    "with open(\"indianTales.txt\", encoding=\"utf-8\") as file:\n",
    "    text = file.read()"
   ]
  },
  {
   "cell_type": "code",
   "execution_count": 4,
   "id": "07503397",
   "metadata": {},
   "outputs": [
    {
     "name": "stdout",
     "output_type": "stream",
     "text": [
      "content='यहाँ दी गई कहानियों की सूची है:\\n\\n1. **शेर और बगुला** - इस कहानी में, एक बगुला एक शेर की मदद करता है जिसके गले में एक हड्डी फंस जाती है। बगुला हड्डी को निकाल देता है, लेकिन शेर उसका शुक्रिया नहीं अदा करता है और कहता है कि वह भाग्यशाली है कि वह जीवित है।\\n\\n2. **राजकुमार और राजकुमारी लबाम** - एक राजकुमार अपनी माता की आज्ञा के विरुद्ध जाकर राजकुमारी लबाम को ढूंढने निकलता है। वह कई जंगलों से गुजरता है, जहां उसे विभिन्न जानवरों से मिलने का अवसर मिलता है, जिनमें से कुछ उसकी मदद करते हैं।\\n\\nकृपया ध्यान दें कि अन्य कहानियों के लिए पाठ उपलब्ध नहीं है, इसलिए उनके लिए सारांश नहीं लिखा जा सकता है।' additional_kwargs={} response_metadata={'token_usage': {'completion_tokens': 304, 'prompt_tokens': 5232, 'total_tokens': 5536, 'completion_time': 1.043832378, 'prompt_time': 0.406922307, 'queue_time': 0.049479601, 'total_time': 1.450754685}, 'model_name': 'llama-3.3-70b-versatile', 'system_fingerprint': 'fp_2ddfbb0da0', 'service_tier': 'on_demand', 'finish_reason': 'stop', 'logprobs': None} id='run--9e32494e-e0b3-4e19-ac14-89017e3cd888-0' usage_metadata={'input_tokens': 5232, 'output_tokens': 304, 'total_tokens': 5536}\n"
     ]
    }
   ],
   "source": [
    "# lets try to talk with this book\n",
    "\n",
    "from langchain.chat_models import init_chat_model\n",
    "model = init_chat_model(\"llama-3.3-70b-versatile\", model_provider=\"groq\")\n",
    "\n",
    "# Prepare your prompt\n",
    "prompt_template = \"\"\"You are a novel reader. You are given collection of stories:\n",
    "{collection_of_stories}\n",
    "You are tasked to make a list of story titles in this collection. Write a short summary for each story in Hindi Language. Skip the story from the list, if the story is not provided in the text. \n",
    "\"\"\"\n",
    "\n",
    "response = model.invoke(prompt_template.format(collection_of_stories = text[:len(text)//20]))\n",
    "\n",
    "print(response)"
   ]
  },
  {
   "cell_type": "code",
   "execution_count": 8,
   "id": "87249ea6",
   "metadata": {},
   "outputs": [
    {
     "data": {
      "text/markdown": [
       "यहाँ दी गई कहानियों की सूची है:\n",
       "\n",
       "1. **शेर और बगुला** - इस कहानी में, एक बगुला एक शेर की जान बचाता है जिसके गले में एक हड्डी फंस जाती है। बगुला शेर को बचाने के लिए उसके मुंह में जाता है, लेकिन शेर उसे निगलने की कोशिश नहीं करता है। बाद में, शेर बगुला को धन्यवाद देने के बजाय उसे खतरे में डालता है, जिससे बगुला निराश होता है।\n",
       "2. **राजा के बेटे ने कैसे राजकुमारी लबाम को जीता** - इस कहानी में, एक राजकुमार अपनी माँ की सलाह की अवहेलना करता है और एक जंगल में जाता है, जहाँ वह एक परिवार के राजा से मिलता है। राजकुमार एक राजकुमारी लबाम के बारे में सुनता है और उसे ढूंढने का फैसला करता है। वह कई परीक्षणों और चुनौतियों का सामना करता है, जिसमें एक एंट राजा और एक बाघ से मिलना शामिल है, जो उसे अपनी यात्रा में मदद करते हैं।\n",
       "\n",
       "इन कहानियों के अलावा, अन्य कहानियों की सूची दी गई है, लेकिन उनकी कहानियाँ प्रदान नहीं की गई हैं।"
      ],
      "text/plain": [
       "<IPython.core.display.Markdown object>"
      ]
     },
     "execution_count": 8,
     "metadata": {},
     "output_type": "execute_result"
    }
   ],
   "source": [
    "# Better printing\n",
    "\n",
    "from IPython.display import Markdown\n",
    "Markdown(response.content)"
   ]
  },
  {
   "cell_type": "markdown",
   "id": "8fb7239b",
   "metadata": {},
   "source": [
    "### Problem: Too much raw information in the context makes the prompt too long.\n",
    "- Costly\n",
    "- adds noise\n",
    "### Solution: Use RAG\n",
    "https://python.langchain.com/docs/tutorials/rag/\n",
    "### To understand RAG, we need to understand Semantic Search\n",
    "https://python.langchain.com/docs/tutorials/retrievers/"
   ]
  },
  {
   "cell_type": "code",
   "execution_count": 5,
   "id": "0f0b4909",
   "metadata": {},
   "outputs": [
    {
     "name": "stdout",
     "output_type": "stream",
     "text": [
      "c:\\Users\\rishi\\myproject\\venv\\Scripts\\python.exe\n"
     ]
    }
   ],
   "source": [
    "import sys\n",
    "print(sys.executable)\n"
   ]
  },
  {
   "cell_type": "code",
   "execution_count": 3,
   "id": "e1ca6bd8",
   "metadata": {},
   "outputs": [],
   "source": [
    "# load text using RELEVANT loader\n",
    "from langchain_community.document_loaders import TextLoader\n",
    "\n",
    "loader = TextLoader(\"indianTales.txt\", encoding=\"utf-8\")\n",
    "docs = loader.load()\n"
   ]
  },
  {
   "cell_type": "code",
   "execution_count": 4,
   "id": "50eab39c",
   "metadata": {},
   "outputs": [
    {
     "name": "stdout",
     "output_type": "stream",
     "text": [
      "Split given book into 563 sub-documents.\n"
     ]
    }
   ],
   "source": [
    "# Split document into small chunks\n",
    "from langchain_text_splitters import RecursiveCharacterTextSplitter\n",
    "\n",
    "text_splitter = RecursiveCharacterTextSplitter(\n",
    "    chunk_size=1000,  # chunk size (characters)\n",
    "    chunk_overlap=200,  # chunk overlap (characters)\n",
    "    add_start_index=True,  # track index in original document\n",
    ")\n",
    "all_splits = text_splitter.split_documents(docs)\n",
    "\n",
    "print(f\"Split given book into {len(all_splits)} sub-documents.\")"
   ]
  },
  {
   "cell_type": "markdown",
   "id": "d68dd2b5",
   "metadata": {},
   "source": [
    "### Embedding"
   ]
  },
  {
   "cell_type": "code",
   "execution_count": 7,
   "id": "758a909b",
   "metadata": {},
   "outputs": [],
   "source": [
    "from langchain_google_genai import GoogleGenerativeAIEmbeddings\n",
    "\n",
    "embeddings = GoogleGenerativeAIEmbeddings(model=\"models/embedding-001\")\n",
    "\n",
    "# Create a vector store\n",
    "# (CLASSROOM DISCUSSION: What are vector stores? What do we make them?)\n",
    "from langchain_core.vectorstores import InMemoryVectorStore\n",
    "vector_store = InMemoryVectorStore(embeddings)\n",
    "\n",
    "# Adding documents to vector store\n",
    "document_ids = vector_store.add_documents(documents=all_splits)\n"
   ]
  },
  {
   "cell_type": "code",
   "execution_count": null,
   "id": "4e746c37",
   "metadata": {},
   "outputs": [],
   "source": [
    "# document_ids"
   ]
  },
  {
   "cell_type": "code",
   "execution_count": 8,
   "id": "c6363c9a",
   "metadata": {},
   "outputs": [],
   "source": [
    "# extract chunks which matches with your query\n",
    "\n",
    "search_results = vector_store.similarity_search_with_score(\n",
    "    \"What is the role of Lion in the story?\",\n",
    "    k = 10\n",
    ")"
   ]
  },
  {
   "cell_type": "code",
   "execution_count": 9,
   "id": "566ba5f3",
   "metadata": {},
   "outputs": [
    {
     "data": {
      "text/plain": [
       "[(Document(id='e201d001-d9d2-4d48-8884-40138bbc5df3', metadata={'source': 'indianTales.txt', 'start_index': 117080}, page_content='How came the crown in the jaws of the tiger? The king of Ujjaini had a\\nweek before gone with all his hunters on a hunting expedition. All of\\na sudden the tiger-king started from the wood, seized the king, and\\nvanished.'),\n",
       "  0.7410933853822097),\n",
       " (Document(id='f43b479b-dbc6-44f7-9dfc-20f718fb2876', metadata={'source': 'indianTales.txt', 'start_index': 110013}, page_content='goldsmith. Do not release him; and if you do, you shall surely repent\\nof it one day or other.\" Thus advising, the hungry tiger went away\\nwithout waiting for an answer.'),\n",
       "  0.7157341176789158),\n",
       " (Document(id='b4cc63cd-7a8d-4c41-8761-ba4057f4cdf7', metadata={'source': 'indianTales.txt', 'start_index': 110182}, page_content='[Illustration:]'),\n",
       "  0.7022634590788741),\n",
       " (Document(id='09fecd75-d0a0-4b92-8849-8c9c5047286d', metadata={'source': 'indianTales.txt', 'start_index': 12770}, page_content='mouth struck one end of the bone with his beak. Whereupon the bone\\ndropped and fell out. As soon as he had caused the bone to fall, he\\ngot out of the lion\\'s mouth, striking the stick with his beak so that\\nit fell out, and then settled on a branch. The lion gets well, and\\none day was eating a buffalo he had killed. The crane thinking \"I will\\nsound him,\" settled on a branch just over him, and in conversation\\nspoke this first verse:'),\n",
       "  0.700576616566705),\n",
       " (Document(id='1cfccf51-fd70-4f5e-af79-1d41ae12cecd', metadata={'source': 'indianTales.txt', 'start_index': 164265}, page_content='\"Where do you come from? Who are you?\" asked the king, entering the\\nroom.\\n\\n\"O king!\" replied the prince, \"I am the son of a king who rules over\\nsuch-and-such a country.\"\\n\\nWhen he heard this the king was very glad, and bade the prince to\\nabide in his palace, and appointed him his successor to the throne.\\nThe prince remained at the palace for more than a year, and then asked\\npermission to visit his own country, which was granted. The king gave\\nhim elephants, horses, jewels, and abundance of money for the expenses\\nof the way and as presents for his father, and the prince started.'),\n",
       "  0.6917282156958834),\n",
       " (Document(id='e8c2e5aa-a161-42d2-90ce-ead8dd132e7c', metadata={'source': 'indianTales.txt', 'start_index': 682}, page_content=\"Language: English\\n\\nCredits: E-text prepared by Delphine Lettau, Charles Franks, and the Online Distributed Proofreading Team\\n\\n\\n*** START OF THE PROJECT GUTENBERG EBOOK INDIAN FAIRY TALES ***\\n\\n\\nE-text prepared by Delphine Lettau, Charles Franks, and the Online\\nDistributed Proofreading Team and revised by Sankar Viswanathan, Fritz\\nOhrenschall, Sania Ali Mirza, and the Online Distributed Proofreading Team\\n(http://www.pgdp.net) using page images generously made available by\\nInternet Archive (http://archive.org)\\n\\n\\n\\nNote: Project Gutenberg also has an HTML version of this\\n      file which includes the lovely original illustrations.\\n      See 7128-h.htm or 7128-h.zip:\\n      (https://www.gutenberg.org/cache/epub/7128/pg7128-images.html)\\n      or\\n      (https://www.gutenberg.org/files/7128/7128-h.zip)\\n\\n\\n      Images of the original pages are available through\\n      Internet Archive. See\\n      http://archive.org/details/indiantales00jacorich\\n\\n\\nTranscriber's note:\"),\n",
       "  0.6904290747121177),\n",
       " (Document(id='7b1d27e3-4b58-454c-b532-7869ce049563', metadata={'source': 'indianTales.txt', 'start_index': 388960}, page_content='easy. You may use this eBook for nearly any purpose such as creation\\nof derivative works, reports, performances and research. Project\\nGutenberg eBooks may be modified and printed and given away—you may\\ndo practically ANYTHING in the United States with eBooks not protected\\nby U.S. copyright law. Redistribution is subject to the trademark\\nlicense, especially commercial redistribution.'),\n",
       "  0.6846275633536972),\n",
       " (Document(id='01087bcb-548c-479a-8e44-17b886f523e2', metadata={'source': 'indianTales.txt', 'start_index': 140414}, page_content='another all they had experienced since they had last seen each other,\\nand were all very glad. Afterwards they walked together to the river\\nside, where it was decided to try the powers of the charmed ring and\\npot and spoon.'),\n",
       "  0.684367331520928),\n",
       " (Document(id='ffe5f456-911b-4641-8813-f4af8b318d33', metadata={'source': 'indianTales.txt', 'start_index': 135716}, page_content='The Charmed Ring'),\n",
       "  0.683897871235799),\n",
       " (Document(id='26c1cdf7-6b2f-488c-baf7-63ba04ce566f', metadata={'source': 'indianTales.txt', 'start_index': 142738}, page_content='and advised her to keep it instead of her husband, because the latter\\nwas constantly out shooting and on other such-like expeditions, and\\nmight lose it. Accordingly the beautiful princess asked her husband\\nfor the ring, and he readily gave it to her.'),\n",
       "  0.6838905592828157)]"
      ]
     },
     "execution_count": 9,
     "metadata": {},
     "output_type": "execute_result"
    }
   ],
   "source": [
    "search_results"
   ]
  },
  {
   "cell_type": "markdown",
   "id": "aef0ce6d",
   "metadata": {},
   "source": [
    "### What is RAG?\n",
    "Retrieve using semantic search and dump the similar chunks in the context of the prompt.\n",
    "LLM sees the question and retrieved docs in its prompt and generates tokens accordingly."
   ]
  },
  {
   "cell_type": "code",
   "execution_count": 17,
   "id": "92552a3a",
   "metadata": {},
   "outputs": [],
   "source": [
    "prompt_template = \"\"\"You are an assistant for question-answering tasks. Use the following pieces of retrieved context to answer the question. If you don't know the answer, just say that you don't know. Use three sentences maximum and keep the answer concise.\n",
    "Question: {question} \n",
    "Context: {context} \n",
    "Answer:\"\"\""
   ]
  },
  {
   "cell_type": "code",
   "execution_count": 18,
   "id": "f4152d01",
   "metadata": {},
   "outputs": [
    {
     "name": "stdout",
     "output_type": "stream",
     "text": [
      "How came the crown in the jaws of the tiger? The king of Ujjaini had a\n",
      "week before gone with all his hunters on a hunting expedition. All of\n",
      "a sudden the tiger-king started from the wood, seized the king, and\n",
      "vanished.\n",
      "==================================================\n",
      "\n",
      "\n",
      "goldsmith. Do not release him; and if you do, you shall surely repent\n",
      "of it one day or other.\" Thus advising, the hungry tiger went away\n",
      "without waiting for an answer.\n",
      "==================================================\n",
      "\n",
      "\n",
      "[Illustration:]\n",
      "==================================================\n",
      "\n",
      "\n",
      "mouth struck one end of the bone with his beak. Whereupon the bone\n",
      "dropped and fell out. As soon as he had caused the bone to fall, he\n",
      "got out of the lion's mouth, striking the stick with his beak so that\n",
      "it fell out, and then settled on a branch. The lion gets well, and\n",
      "one day was eating a buffalo he had killed. The crane thinking \"I will\n",
      "sound him,\" settled on a branch just over him, and in conversation\n",
      "spoke this first verse:\n",
      "==================================================\n",
      "\n",
      "\n",
      "\"Where do you come from? Who are you?\" asked the king, entering the\n",
      "room.\n",
      "\n",
      "\"O king!\" replied the prince, \"I am the son of a king who rules over\n",
      "such-and-such a country.\"\n",
      "\n",
      "When he heard this the king was very glad, and bade the prince to\n",
      "abide in his palace, and appointed him his successor to the throne.\n",
      "The prince remained at the palace for more than a year, and then asked\n",
      "permission to visit his own country, which was granted. The king gave\n",
      "him elephants, horses, jewels, and abundance of money for the expenses\n",
      "of the way and as presents for his father, and the prince started.\n",
      "==================================================\n",
      "\n",
      "\n",
      "Language: English\n",
      "\n",
      "Credits: E-text prepared by Delphine Lettau, Charles Franks, and the Online Distributed Proofreading Team\n",
      "\n",
      "\n",
      "*** START OF THE PROJECT GUTENBERG EBOOK INDIAN FAIRY TALES ***\n",
      "\n",
      "\n",
      "E-text prepared by Delphine Lettau, Charles Franks, and the Online\n",
      "Distributed Proofreading Team and revised by Sankar Viswanathan, Fritz\n",
      "Ohrenschall, Sania Ali Mirza, and the Online Distributed Proofreading Team\n",
      "(http://www.pgdp.net) using page images generously made available by\n",
      "Internet Archive (http://archive.org)\n",
      "\n",
      "\n",
      "\n",
      "Note: Project Gutenberg also has an HTML version of this\n",
      "      file which includes the lovely original illustrations.\n",
      "      See 7128-h.htm or 7128-h.zip:\n",
      "      (https://www.gutenberg.org/cache/epub/7128/pg7128-images.html)\n",
      "      or\n",
      "      (https://www.gutenberg.org/files/7128/7128-h.zip)\n",
      "\n",
      "\n",
      "      Images of the original pages are available through\n",
      "      Internet Archive. See\n",
      "      http://archive.org/details/indiantales00jacorich\n",
      "\n",
      "\n",
      "Transcriber's note:\n",
      "==================================================\n",
      "\n",
      "\n",
      "easy. You may use this eBook for nearly any purpose such as creation\n",
      "of derivative works, reports, performances and research. Project\n",
      "Gutenberg eBooks may be modified and printed and given away—you may\n",
      "do practically ANYTHING in the United States with eBooks not protected\n",
      "by U.S. copyright law. Redistribution is subject to the trademark\n",
      "license, especially commercial redistribution.\n",
      "==================================================\n",
      "\n",
      "\n",
      "another all they had experienced since they had last seen each other,\n",
      "and were all very glad. Afterwards they walked together to the river\n",
      "side, where it was decided to try the powers of the charmed ring and\n",
      "pot and spoon.\n",
      "==================================================\n",
      "\n",
      "\n",
      "The Charmed Ring\n",
      "==================================================\n",
      "\n",
      "\n",
      "and advised her to keep it instead of her husband, because the latter\n",
      "was constantly out shooting and on other such-like expeditions, and\n",
      "might lose it. Accordingly the beautiful princess asked her husband\n",
      "for the ring, and he readily gave it to her.\n",
      "==================================================\n",
      "\n"
     ]
    }
   ],
   "source": [
    "doc_content = \"\\n\\n\".join(doc.page_content+\"\\n\"+\"=\"*50+\"\\n\" for (doc,score) in search_results)\n",
    "print(doc_content)"
   ]
  },
  {
   "cell_type": "code",
   "execution_count": 19,
   "id": "395b1451",
   "metadata": {},
   "outputs": [],
   "source": [
    "# make the LLM read see the prompt, and analyse the retrieved document, and generate response\n",
    "\n",
    "from langchain.chat_models import init_chat_model\n",
    "model = init_chat_model(\"llama-3.3-70b-versatile\", model_provider=\"groq\")\n",
    "\n",
    "prompt_template = \"\"\"You are an assistant for question-answering tasks. Use the following pieces of retrieved context to answer the question. If you don't know the answer, just say that you don't know. Use three sentences maximum and keep the answer concise.\n",
    "Question: {question} \n",
    "Context: {context} \n",
    "Answer:\"\"\"\n",
    "\n",
    "response = model.invoke(prompt_template.format(\n",
    "    context=doc_content,\n",
    "    question=\"What is the role of Lion in the story?\"))"
   ]
  },
  {
   "cell_type": "code",
   "execution_count": 20,
   "id": "9d7fdba7",
   "metadata": {},
   "outputs": [
    {
     "data": {
      "text/markdown": [
       "There is no mention of a lion playing a role in the overall story, only a brief mention of a lion in a separate anecdote where a crane helps a lion by removing a bone from its mouth. The lion's role is limited to this isolated incident. I don't know the lion's role in the main story."
      ],
      "text/plain": [
       "<IPython.core.display.Markdown object>"
      ]
     },
     "execution_count": 20,
     "metadata": {},
     "output_type": "execute_result"
    }
   ],
   "source": [
    "# Better printing\n",
    "\n",
    "from IPython.display import Markdown\n",
    "Markdown(response.content)"
   ]
  },
  {
   "cell_type": "markdown",
   "id": "7a5ceb2c",
   "metadata": {},
   "source": [
    "# RAG Summary"
   ]
  },
  {
   "cell_type": "code",
   "execution_count": 22,
   "id": "93cd5add",
   "metadata": {},
   "outputs": [
    {
     "name": "stdout",
     "output_type": "stream",
     "text": [
      "Split given book into 563 sub-documents.\n"
     ]
    }
   ],
   "source": [
    "# RAG summary\n",
    "\n",
    "# Read a doc\n",
    "from langchain_community.document_loaders import TextLoader\n",
    "loader = TextLoader(\"indianTales.txt\", encoding=\"utf-8\")\n",
    "docs = loader.load()\n",
    "\n",
    "\n",
    "# Split document into small chunks\n",
    "from langchain_text_splitters import RecursiveCharacterTextSplitter\n",
    "\n",
    "text_splitter = RecursiveCharacterTextSplitter(\n",
    "    chunk_size=1000,  # chunk size (characters)\n",
    "    chunk_overlap=200,  # chunk overlap (characters)\n",
    "    add_start_index=True,  # track index in original document\n",
    ")\n",
    "all_splits = text_splitter.split_documents(docs)\n",
    "\n",
    "print(f\"Split given book into {len(all_splits)} sub-documents.\")\n",
    "\n",
    "# embedding\n",
    "from langchain_google_genai import GoogleGenerativeAIEmbeddings\n",
    "\n",
    "embeddings = GoogleGenerativeAIEmbeddings(model=\"models/embedding-001\")\n",
    "\n",
    "# Create a vector store\n",
    "from langchain_core.vectorstores import InMemoryVectorStore\n",
    "vector_store = InMemoryVectorStore(embeddings)\n",
    "\n",
    "# Adding documents to vector store\n",
    "document_ids = vector_store.add_documents(documents=all_splits)\n"
   ]
  },
  {
   "cell_type": "code",
   "execution_count": 23,
   "id": "b55042e4",
   "metadata": {},
   "outputs": [
    {
     "name": "stdout",
     "output_type": "stream",
     "text": [
      "How came the crown in the jaws of the tiger? The king of Ujjaini had a\n",
      "week before gone with all his hunters on a hunting expedition. All of\n",
      "a sudden the tiger-king started from the wood, seized the king, and\n",
      "vanished.\n",
      "==================================================\n",
      "\n",
      "\n",
      "goldsmith. Do not release him; and if you do, you shall surely repent\n",
      "of it one day or other.\" Thus advising, the hungry tiger went away\n",
      "without waiting for an answer.\n",
      "==================================================\n",
      "\n",
      "\n",
      "[Illustration:]\n",
      "==================================================\n",
      "\n",
      "\n",
      "mouth struck one end of the bone with his beak. Whereupon the bone\n",
      "dropped and fell out. As soon as he had caused the bone to fall, he\n",
      "got out of the lion's mouth, striking the stick with his beak so that\n",
      "it fell out, and then settled on a branch. The lion gets well, and\n",
      "one day was eating a buffalo he had killed. The crane thinking \"I will\n",
      "sound him,\" settled on a branch just over him, and in conversation\n",
      "spoke this first verse:\n",
      "==================================================\n",
      "\n",
      "\n",
      "\"Where do you come from? Who are you?\" asked the king, entering the\n",
      "room.\n",
      "\n",
      "\"O king!\" replied the prince, \"I am the son of a king who rules over\n",
      "such-and-such a country.\"\n",
      "\n",
      "When he heard this the king was very glad, and bade the prince to\n",
      "abide in his palace, and appointed him his successor to the throne.\n",
      "The prince remained at the palace for more than a year, and then asked\n",
      "permission to visit his own country, which was granted. The king gave\n",
      "him elephants, horses, jewels, and abundance of money for the expenses\n",
      "of the way and as presents for his father, and the prince started.\n",
      "==================================================\n",
      "\n",
      "\n",
      "Language: English\n",
      "\n",
      "Credits: E-text prepared by Delphine Lettau, Charles Franks, and the Online Distributed Proofreading Team\n",
      "\n",
      "\n",
      "*** START OF THE PROJECT GUTENBERG EBOOK INDIAN FAIRY TALES ***\n",
      "\n",
      "\n",
      "E-text prepared by Delphine Lettau, Charles Franks, and the Online\n",
      "Distributed Proofreading Team and revised by Sankar Viswanathan, Fritz\n",
      "Ohrenschall, Sania Ali Mirza, and the Online Distributed Proofreading Team\n",
      "(http://www.pgdp.net) using page images generously made available by\n",
      "Internet Archive (http://archive.org)\n",
      "\n",
      "\n",
      "\n",
      "Note: Project Gutenberg also has an HTML version of this\n",
      "      file which includes the lovely original illustrations.\n",
      "      See 7128-h.htm or 7128-h.zip:\n",
      "      (https://www.gutenberg.org/cache/epub/7128/pg7128-images.html)\n",
      "      or\n",
      "      (https://www.gutenberg.org/files/7128/7128-h.zip)\n",
      "\n",
      "\n",
      "      Images of the original pages are available through\n",
      "      Internet Archive. See\n",
      "      http://archive.org/details/indiantales00jacorich\n",
      "\n",
      "\n",
      "Transcriber's note:\n",
      "==================================================\n",
      "\n",
      "\n",
      "easy. You may use this eBook for nearly any purpose such as creation\n",
      "of derivative works, reports, performances and research. Project\n",
      "Gutenberg eBooks may be modified and printed and given away—you may\n",
      "do practically ANYTHING in the United States with eBooks not protected\n",
      "by U.S. copyright law. Redistribution is subject to the trademark\n",
      "license, especially commercial redistribution.\n",
      "==================================================\n",
      "\n",
      "\n",
      "another all they had experienced since they had last seen each other,\n",
      "and were all very glad. Afterwards they walked together to the river\n",
      "side, where it was decided to try the powers of the charmed ring and\n",
      "pot and spoon.\n",
      "==================================================\n",
      "\n",
      "\n",
      "The Charmed Ring\n",
      "==================================================\n",
      "\n",
      "\n",
      "and advised her to keep it instead of her husband, because the latter\n",
      "was constantly out shooting and on other such-like expeditions, and\n",
      "might lose it. Accordingly the beautiful princess asked her husband\n",
      "for the ring, and he readily gave it to her.\n",
      "==================================================\n",
      "\n"
     ]
    }
   ],
   "source": [
    "# extract chunks which matches with your query\n",
    "\n",
    "search_results = vector_store.similarity_search_with_score(\n",
    "    \"What is the role of Lion in the story?\",\n",
    "    k = 10\n",
    ")\n",
    "\n",
    "doc_content = \"\\n\\n\".join(doc.page_content+\"\\n\"+\"=\"*50+\"\\n\" for (doc,score) in search_results)\n",
    "print(doc_content)"
   ]
  },
  {
   "cell_type": "code",
   "execution_count": 24,
   "id": "94122ba7",
   "metadata": {},
   "outputs": [
    {
     "data": {
      "text/markdown": [
       "There is no mention of a lion playing a role in the story provided. The context seems to be about a tiger, a king, and other characters, but does not include a lion as a significant character. I don't know the role of a lion in the story as it is not mentioned."
      ],
      "text/plain": [
       "<IPython.core.display.Markdown object>"
      ]
     },
     "execution_count": 24,
     "metadata": {},
     "output_type": "execute_result"
    }
   ],
   "source": [
    "prompt_template = \"\"\"You are an assistant for question-answering tasks. Use the following pieces of retrieved context to answer the question. If you don't know the answer, just say that you don't know. Use three sentences maximum and keep the answer concise.\n",
    "Question: {question} \n",
    "Context: {context} \n",
    "Answer:\"\"\"\n",
    "\n",
    "response = model.invoke(prompt_template.format(\n",
    "    context=doc_content,\n",
    "    question=\"What is the role of Lion in the story?\"))\n",
    "\n",
    "\n",
    "from IPython.display import Markdown\n",
    "Markdown(response.content)"
   ]
  },
  {
   "cell_type": "code",
   "execution_count": null,
   "id": "9053cdb8",
   "metadata": {},
   "outputs": [],
   "source": []
  }
 ],
 "metadata": {
  "kernelspec": {
   "display_name": "Python (venv)",
   "language": "python",
   "name": "venv"
  },
  "language_info": {
   "codemirror_mode": {
    "name": "ipython",
    "version": 3
   },
   "file_extension": ".py",
   "mimetype": "text/x-python",
   "name": "python",
   "nbconvert_exporter": "python",
   "pygments_lexer": "ipython3",
   "version": "3.13.5"
  }
 },
 "nbformat": 4,
 "nbformat_minor": 5
}
