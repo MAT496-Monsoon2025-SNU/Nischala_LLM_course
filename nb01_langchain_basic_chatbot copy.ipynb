{
 "cells": [
  {
   "cell_type": "code",
   "execution_count": 1,
   "id": "682c4c87",
   "metadata": {},
   "outputs": [
    {
     "data": {
      "text/plain": [
       "True"
      ]
     },
     "execution_count": 1,
     "metadata": {},
     "output_type": "execute_result"
    }
   ],
   "source": [
    "from dotenv import load_dotenv\n",
    "load_dotenv()"
   ]
  },
  {
   "cell_type": "code",
   "execution_count": 1,
   "id": "afe84af3",
   "metadata": {},
   "outputs": [],
   "source": [
    "import sys\n",
    "!{sys.executable} -m pip install -qU \"langchain[groq]\"\n",
    "\n",
    "\n"
   ]
  },
  {
   "cell_type": "code",
   "execution_count": 12,
   "id": "a0e461e5",
   "metadata": {},
   "outputs": [],
   "source": [
    "from langchain.chat_models import init_chat_model\n",
    "\n",
    "model = init_chat_model(\"llama-3.1-8b-instant\", model_provider=\"groq\")"
   ]
  },
  {
   "cell_type": "code",
   "execution_count": 13,
   "id": "a6f93f75",
   "metadata": {},
   "outputs": [
    {
     "data": {
      "text/plain": [
       "AIMessage(content=\"Not much. I'm here to help answer any questions or provide information you might need. What's on your mind?\", additional_kwargs={}, response_metadata={'token_usage': {'completion_tokens': 25, 'prompt_tokens': 38, 'total_tokens': 63, 'completion_time': 0.025790551, 'prompt_time': 0.005592167, 'queue_time': 0.047062073, 'total_time': 0.031382718}, 'model_name': 'llama-3.1-8b-instant', 'system_fingerprint': 'fp_c40956ddc4', 'service_tier': 'on_demand', 'finish_reason': 'stop', 'logprobs': None}, id='run--51c1023a-b1d0-44cc-8dfb-04b22eb1b8b6-0', usage_metadata={'input_tokens': 38, 'output_tokens': 25, 'total_tokens': 63})"
      ]
     },
     "execution_count": 13,
     "metadata": {},
     "output_type": "execute_result"
    }
   ],
   "source": [
    "# A simple model call\n",
    "\n",
    "model.invoke(\"Whats up?\")"
   ]
  },
  {
   "cell_type": "code",
   "execution_count": null,
   "id": "ffcd459f",
   "metadata": {},
   "outputs": [],
   "source": []
  },
  {
   "cell_type": "markdown",
   "id": "42416cbd",
   "metadata": {},
   "source": [
    "[Exercise] Play along. Give bigger and bigger prompts"
   ]
  },
  {
   "cell_type": "code",
   "execution_count": 14,
   "id": "da2738af",
   "metadata": {},
   "outputs": [
    {
     "data": {
      "text/plain": [
       "AIMessage(content=\"I'm an artificial intelligence model known as a large language model (LLM) or a conversational AI. I'm a computer program designed to understand and generate human-like text responses to a wide range of questions and topics.\\n\\nI don't have a personal identity, but I'm a tool designed to provide information, answer questions, and assist with tasks to the best of my abilities. My knowledge is based on a massive dataset of text that I've been trained on, which enables me to generate responses to various queries.\\n\\nI can help with:\\n\\n- Answering questions on a wide range of topics, from science and history to entertainment and culture.\\n- Generating text on a given topic or subject.\\n- Providing definitions and explanations of words and concepts.\\n- Assisting with language-related tasks, such as grammar and spelling corrections.\\n- Engaging in conversations and discussions.\\n\\nFeel free to ask me anything, and I'll do my best to help!\", additional_kwargs={}, response_metadata={'token_usage': {'completion_tokens': 189, 'prompt_tokens': 39, 'total_tokens': 228, 'completion_time': 0.429177153, 'prompt_time': 0.005737165, 'queue_time': 0.045952865, 'total_time': 0.434914318}, 'model_name': 'llama-3.1-8b-instant', 'system_fingerprint': 'fp_c40956ddc4', 'service_tier': 'on_demand', 'finish_reason': 'stop', 'logprobs': None}, id='run--209bff46-b6a5-4c63-af0e-6629515a6a34-0', usage_metadata={'input_tokens': 39, 'output_tokens': 189, 'total_tokens': 228})"
      ]
     },
     "execution_count": 14,
     "metadata": {},
     "output_type": "execute_result"
    }
   ],
   "source": [
    "model.invoke(\"Who are you?\")"
   ]
  },
  {
   "cell_type": "code",
   "execution_count": 15,
   "id": "a7f4578d",
   "metadata": {},
   "outputs": [
    {
     "data": {
      "text/plain": [
       "AIMessage(content='Here\\'s a Python function that multiplies two matrices of arbitrary but compatible order. It checks if the matrices are compatible for multiplication by comparing their dimensions.\\n\\n```python\\nclass Matrix:\\n    def __init__(self, matrix):\\n        \"\"\"\\n        Initialize a Matrix object.\\n\\n        Args:\\n            matrix (list): A 2D list representing the matrix.\\n        \"\"\"\\n        self.matrix = matrix\\n        self.rows = len(matrix)\\n        self.cols = len(matrix[0])\\n\\n    def __mul__(self, other):\\n        \"\"\"\\n        Multiply two matrices.\\n\\n        Args:\\n            other (Matrix): The other matrix to multiply with.\\n\\n        Returns:\\n            Matrix: The product of the two matrices.\\n\\n        Raises:\\n            ValueError: If the matrices are not compatible for multiplication.\\n        \"\"\"\\n        if self.cols != other.rows:\\n            raise ValueError(\"Matrices are not compatible for multiplication\")\\n\\n        # Create a new matrix with zeros\\n        product_matrix = [[0 for _ in range(other.cols)] for _ in range(self.rows)]\\n\\n        # Perform matrix multiplication\\n        for i in range(self.rows):\\n            for j in range(other.cols):\\n                for k in range(self.cols):\\n                    product_matrix[i][j] += self.matrix[i][k] * other.matrix[k][j]\\n\\n        return Matrix(product_matrix)\\n\\n    def __str__(self):\\n        \"\"\"\\n        Return a string representation of the matrix.\\n        \"\"\"\\n        return \"\\\\n\".join([\" \".join(map(str, row)) for row in self.matrix])\\n\\n\\n# Example usage:\\nmatrix1 = Matrix([[1, 2, 3], [4, 5, 6]])\\nmatrix2 = Matrix([[7, 8], [9, 10], [11, 12]])\\n\\nprint(\"Matrix 1:\")\\nprint(matrix1)\\nprint(\"Matrix 2:\")\\nprint(matrix2)\\n\\ntry:\\n    result = matrix1 * matrix2\\n    print(\"Result:\")\\n    print(result)\\nexcept ValueError as e:\\n    print(e)\\n```\\n\\nThis code defines a `Matrix` class with methods for matrix multiplication and string representation. The `__mul__` method checks if the matrices are compatible for multiplication and raises a `ValueError` if not. The example usage demonstrates how to create matrices, multiply them, and handle the case where the matrices are not compatible for multiplication.', additional_kwargs={}, response_metadata={'token_usage': {'completion_tokens': 468, 'prompt_tokens': 68, 'total_tokens': 536, 'completion_time': 0.433988378, 'prompt_time': 0.006944274, 'queue_time': 0.047916116, 'total_time': 0.440932652}, 'model_name': 'llama-3.1-8b-instant', 'system_fingerprint': 'fp_2115512ff6', 'service_tier': 'on_demand', 'finish_reason': 'stop', 'logprobs': None}, id='run--0b53a8c1-7fbe-4121-a5d0-6e74a8ab9314-0', usage_metadata={'input_tokens': 68, 'output_tokens': 468, 'total_tokens': 536})"
      ]
     },
     "execution_count": 15,
     "metadata": {},
     "output_type": "execute_result"
    }
   ],
   "source": [
    "response = model.invoke(\"\"\" Write a python code which can multiply two matrix of arbitrary but compatible order. The code should throw exception if the matrix dimentsions are not compatible for multiplication             \n",
    "             \"\"\")\n",
    "\n",
    "response"
   ]
  },
  {
   "cell_type": "markdown",
   "id": "668dee8d",
   "metadata": {},
   "source": []
  },
  {
   "cell_type": "code",
   "execution_count": 16,
   "id": "17c8c30d",
   "metadata": {},
   "outputs": [
    {
     "name": "stdout",
     "output_type": "stream",
     "text": [
      "Here's a Python function that multiplies two matrices of arbitrary but compatible order. It checks if the matrices are compatible for multiplication by comparing their dimensions.\n",
      "\n",
      "```python\n",
      "class Matrix:\n",
      "    def __init__(self, matrix):\n",
      "        \"\"\"\n",
      "        Initialize a Matrix object.\n",
      "\n",
      "        Args:\n",
      "            matrix (list): A 2D list representing the matrix.\n",
      "        \"\"\"\n",
      "        self.matrix = matrix\n",
      "        self.rows = len(matrix)\n",
      "        self.cols = len(matrix[0])\n",
      "\n",
      "    def __mul__(self, other):\n",
      "        \"\"\"\n",
      "        Multiply two matrices.\n",
      "\n",
      "        Args:\n",
      "            other (Matrix): The other matrix to multiply with.\n",
      "\n",
      "        Returns:\n",
      "            Matrix: The product of the two matrices.\n",
      "\n",
      "        Raises:\n",
      "            ValueError: If the matrices are not compatible for multiplication.\n",
      "        \"\"\"\n",
      "        if self.cols != other.rows:\n",
      "            raise ValueError(\"Matrices are not compatible for multiplication\")\n",
      "\n",
      "        # Create a new matrix with zeros\n",
      "        product_matrix = [[0 for _ in range(other.cols)] for _ in range(self.rows)]\n",
      "\n",
      "        # Perform matrix multiplication\n",
      "        for i in range(self.rows):\n",
      "            for j in range(other.cols):\n",
      "                for k in range(self.cols):\n",
      "                    product_matrix[i][j] += self.matrix[i][k] * other.matrix[k][j]\n",
      "\n",
      "        return Matrix(product_matrix)\n",
      "\n",
      "    def __str__(self):\n",
      "        \"\"\"\n",
      "        Return a string representation of the matrix.\n",
      "        \"\"\"\n",
      "        return \"\\n\".join([\" \".join(map(str, row)) for row in self.matrix])\n",
      "\n",
      "\n",
      "# Example usage:\n",
      "matrix1 = Matrix([[1, 2, 3], [4, 5, 6]])\n",
      "matrix2 = Matrix([[7, 8], [9, 10], [11, 12]])\n",
      "\n",
      "print(\"Matrix 1:\")\n",
      "print(matrix1)\n",
      "print(\"Matrix 2:\")\n",
      "print(matrix2)\n",
      "\n",
      "try:\n",
      "    result = matrix1 * matrix2\n",
      "    print(\"Result:\")\n",
      "    print(result)\n",
      "except ValueError as e:\n",
      "    print(e)\n",
      "```\n",
      "\n",
      "This code defines a `Matrix` class with methods for matrix multiplication and string representation. The `__mul__` method checks if the matrices are compatible for multiplication and raises a `ValueError` if not. The example usage demonstrates how to create matrices, multiply them, and handle the case where the matrices are not compatible for multiplication.\n"
     ]
    }
   ],
   "source": [
    "print(response.content)"
   ]
  },
  {
   "cell_type": "code",
   "execution_count": 20,
   "id": "8b215da3",
   "metadata": {},
   "outputs": [
    {
     "data": {
      "text/plain": [
       "AIMessage(content='రోజు బుధవారం', additional_kwargs={}, response_metadata={'token_usage': {'completion_tokens': 23, 'prompt_tokens': 47, 'total_tokens': 70, 'completion_time': 0.024929459, 'prompt_time': 0.025050579, 'queue_time': 0.04807273, 'total_time': 0.049980038}, 'model_name': 'llama-3.1-8b-instant', 'system_fingerprint': 'fp_2115512ff6', 'service_tier': 'on_demand', 'finish_reason': 'stop', 'logprobs': None}, id='run--d711f6eb-baf5-4695-a53c-6b0affe067d3-0', usage_metadata={'input_tokens': 47, 'output_tokens': 23, 'total_tokens': 70})"
      ]
     },
     "execution_count": 20,
     "metadata": {},
     "output_type": "execute_result"
    }
   ],
   "source": [
    "# invoking to build a converstation style call\n",
    "\n",
    "from langchain_core.messages import HumanMessage, SystemMessage\n",
    "\n",
    "messages = [\n",
    "    SystemMessage(\"Translate the following from English into Telugu\"), # try punjabi, or any other Indian language\n",
    "    HumanMessage(\"tomorrow is monday\"),\n",
    "]\n",
    "\n",
    "model.invoke(messages)"
   ]
  },
  {
   "cell_type": "code",
   "execution_count": null,
   "id": "9efe5fb2",
   "metadata": {},
   "outputs": [],
   "source": [
    "messages = [\n",
    "    SystemMessage(\"Generate python code for given tasks\"),\n",
    "    HumanMessage(\"Find max of given n numbers\"),\n",
    "]\n",
    "\n",
    "response = model.invoke(messages)\n",
    "\n"
   ]
  },
  {
   "cell_type": "code",
   "execution_count": null,
   "id": "17d70ec4",
   "metadata": {},
   "outputs": [],
   "source": [
    "print(response.content)"
   ]
  },
  {
   "cell_type": "code",
   "execution_count": null,
   "id": "d36098aa",
   "metadata": {},
   "outputs": [],
   "source": [
    "print(response.content)"
   ]
  },
  {
   "cell_type": "code",
   "execution_count": 27,
   "id": "39caa649",
   "metadata": {},
   "outputs": [
    {
     "name": "stdout",
     "output_type": "stream",
     "text": [
      "content='' additional_kwargs={} response_metadata={} id='run--d3e912af-c2ff-41f4-9374-79e2364ecca4'\n",
      "content='What' additional_kwargs={} response_metadata={} id='run--d3e912af-c2ff-41f4-9374-79e2364ecca4'\n",
      "content=' a' additional_kwargs={} response_metadata={} id='run--d3e912af-c2ff-41f4-9374-79e2364ecca4'\n",
      "content=' profound' additional_kwargs={} response_metadata={} id='run--d3e912af-c2ff-41f4-9374-79e2364ecca4'\n",
      "content=' and' additional_kwargs={} response_metadata={} id='run--d3e912af-c2ff-41f4-9374-79e2364ecca4'\n",
      "content=' complex' additional_kwargs={} response_metadata={} id='run--d3e912af-c2ff-41f4-9374-79e2364ecca4'\n",
      "content=' question' additional_kwargs={} response_metadata={} id='run--d3e912af-c2ff-41f4-9374-79e2364ecca4'\n",
      "content='.' additional_kwargs={} response_metadata={} id='run--d3e912af-c2ff-41f4-9374-79e2364ecca4'\n",
      "content=' The' additional_kwargs={} response_metadata={} id='run--d3e912af-c2ff-41f4-9374-79e2364ecca4'\n",
      "content=' concept' additional_kwargs={} response_metadata={} id='run--d3e912af-c2ff-41f4-9374-79e2364ecca4'\n",
      "content=' of' additional_kwargs={} response_metadata={} id='run--d3e912af-c2ff-41f4-9374-79e2364ecca4'\n",
      "content=' \"' additional_kwargs={} response_metadata={} id='run--d3e912af-c2ff-41f4-9374-79e2364ecca4'\n",
      "content='life' additional_kwargs={} response_metadata={} id='run--d3e912af-c2ff-41f4-9374-79e2364ecca4'\n",
      "content='\"' additional_kwargs={} response_metadata={} id='run--d3e912af-c2ff-41f4-9374-79e2364ecca4'\n",
      "content=' has' additional_kwargs={} response_metadata={} id='run--d3e912af-c2ff-41f4-9374-79e2364ecca4'\n",
      "content=' been' additional_kwargs={} response_metadata={} id='run--d3e912af-c2ff-41f4-9374-79e2364ecca4'\n",
      "content=' debated' additional_kwargs={} response_metadata={} id='run--d3e912af-c2ff-41f4-9374-79e2364ecca4'\n",
      "content=' and' additional_kwargs={} response_metadata={} id='run--d3e912af-c2ff-41f4-9374-79e2364ecca4'\n",
      "content=' explored' additional_kwargs={} response_metadata={} id='run--d3e912af-c2ff-41f4-9374-79e2364ecca4'\n",
      "content=' by' additional_kwargs={} response_metadata={} id='run--d3e912af-c2ff-41f4-9374-79e2364ecca4'\n",
      "content=' philosophers' additional_kwargs={} response_metadata={} id='run--d3e912af-c2ff-41f4-9374-79e2364ecca4'\n",
      "content=',' additional_kwargs={} response_metadata={} id='run--d3e912af-c2ff-41f4-9374-79e2364ecca4'\n",
      "content=' scientists' additional_kwargs={} response_metadata={} id='run--d3e912af-c2ff-41f4-9374-79e2364ecca4'\n",
      "content=',' additional_kwargs={} response_metadata={} id='run--d3e912af-c2ff-41f4-9374-79e2364ecca4'\n",
      "content=' and' additional_kwargs={} response_metadata={} id='run--d3e912af-c2ff-41f4-9374-79e2364ecca4'\n",
      "content=' scholars' additional_kwargs={} response_metadata={} id='run--d3e912af-c2ff-41f4-9374-79e2364ecca4'\n",
      "content=' across' additional_kwargs={} response_metadata={} id='run--d3e912af-c2ff-41f4-9374-79e2364ecca4'\n",
      "content=' various' additional_kwargs={} response_metadata={} id='run--d3e912af-c2ff-41f4-9374-79e2364ecca4'\n",
      "content=' disciplines' additional_kwargs={} response_metadata={} id='run--d3e912af-c2ff-41f4-9374-79e2364ecca4'\n",
      "content=' for' additional_kwargs={} response_metadata={} id='run--d3e912af-c2ff-41f4-9374-79e2364ecca4'\n",
      "content=' centuries' additional_kwargs={} response_metadata={} id='run--d3e912af-c2ff-41f4-9374-79e2364ecca4'\n",
      "content='.' additional_kwargs={} response_metadata={} id='run--d3e912af-c2ff-41f4-9374-79e2364ecca4'\n",
      "content=' While' additional_kwargs={} response_metadata={} id='run--d3e912af-c2ff-41f4-9374-79e2364ecca4'\n",
      "content=' there' additional_kwargs={} response_metadata={} id='run--d3e912af-c2ff-41f4-9374-79e2364ecca4'\n",
      "content=\"'s\" additional_kwargs={} response_metadata={} id='run--d3e912af-c2ff-41f4-9374-79e2364ecca4'\n",
      "content=' no' additional_kwargs={} response_metadata={} id='run--d3e912af-c2ff-41f4-9374-79e2364ecca4'\n",
      "content=' single' additional_kwargs={} response_metadata={} id='run--d3e912af-c2ff-41f4-9374-79e2364ecca4'\n",
      "content=',' additional_kwargs={} response_metadata={} id='run--d3e912af-c2ff-41f4-9374-79e2364ecca4'\n",
      "content=' definitive' additional_kwargs={} response_metadata={} id='run--d3e912af-c2ff-41f4-9374-79e2364ecca4'\n",
      "content=' answer' additional_kwargs={} response_metadata={} id='run--d3e912af-c2ff-41f4-9374-79e2364ecca4'\n",
      "content=',' additional_kwargs={} response_metadata={} id='run--d3e912af-c2ff-41f4-9374-79e2364ecca4'\n",
      "content=' here' additional_kwargs={} response_metadata={} id='run--d3e912af-c2ff-41f4-9374-79e2364ecca4'\n",
      "content=\"'s\" additional_kwargs={} response_metadata={} id='run--d3e912af-c2ff-41f4-9374-79e2364ecca4'\n",
      "content=' a' additional_kwargs={} response_metadata={} id='run--d3e912af-c2ff-41f4-9374-79e2364ecca4'\n",
      "content=' comprehensive' additional_kwargs={} response_metadata={} id='run--d3e912af-c2ff-41f4-9374-79e2364ecca4'\n",
      "content=' and' additional_kwargs={} response_metadata={} id='run--d3e912af-c2ff-41f4-9374-79e2364ecca4'\n",
      "content=' multif' additional_kwargs={} response_metadata={} id='run--d3e912af-c2ff-41f4-9374-79e2364ecca4'\n",
      "content='ac' additional_kwargs={} response_metadata={} id='run--d3e912af-c2ff-41f4-9374-79e2364ecca4'\n",
      "content='eted' additional_kwargs={} response_metadata={} id='run--d3e912af-c2ff-41f4-9374-79e2364ecca4'\n",
      "content=' perspective' additional_kwargs={} response_metadata={} id='run--d3e912af-c2ff-41f4-9374-79e2364ecca4'\n",
      "content=':\\n\\n' additional_kwargs={} response_metadata={} id='run--d3e912af-c2ff-41f4-9374-79e2364ecca4'\n",
      "content='**' additional_kwargs={} response_metadata={} id='run--d3e912af-c2ff-41f4-9374-79e2364ecca4'\n",
      "content='Bi' additional_kwargs={} response_metadata={} id='run--d3e912af-c2ff-41f4-9374-79e2364ecca4'\n",
      "content='ological' additional_kwargs={} response_metadata={} id='run--d3e912af-c2ff-41f4-9374-79e2364ecca4'\n",
      "content=' perspective' additional_kwargs={} response_metadata={} id='run--d3e912af-c2ff-41f4-9374-79e2364ecca4'\n",
      "content=':' additional_kwargs={} response_metadata={} id='run--d3e912af-c2ff-41f4-9374-79e2364ecca4'\n",
      "content='**\\n\\n' additional_kwargs={} response_metadata={} id='run--d3e912af-c2ff-41f4-9374-79e2364ecca4'\n",
      "content='From' additional_kwargs={} response_metadata={} id='run--d3e912af-c2ff-41f4-9374-79e2364ecca4'\n",
      "content=' a' additional_kwargs={} response_metadata={} id='run--d3e912af-c2ff-41f4-9374-79e2364ecca4'\n",
      "content=' biological' additional_kwargs={} response_metadata={} id='run--d3e912af-c2ff-41f4-9374-79e2364ecca4'\n",
      "content=' standpoint' additional_kwargs={} response_metadata={} id='run--d3e912af-c2ff-41f4-9374-79e2364ecca4'\n",
      "content=',' additional_kwargs={} response_metadata={} id='run--d3e912af-c2ff-41f4-9374-79e2364ecca4'\n",
      "content=' life' additional_kwargs={} response_metadata={} id='run--d3e912af-c2ff-41f4-9374-79e2364ecca4'\n",
      "content=' is' additional_kwargs={} response_metadata={} id='run--d3e912af-c2ff-41f4-9374-79e2364ecca4'\n",
      "content=' often' additional_kwargs={} response_metadata={} id='run--d3e912af-c2ff-41f4-9374-79e2364ecca4'\n",
      "content=' defined' additional_kwargs={} response_metadata={} id='run--d3e912af-c2ff-41f4-9374-79e2364ecca4'\n",
      "content=' as' additional_kwargs={} response_metadata={} id='run--d3e912af-c2ff-41f4-9374-79e2364ecca4'\n",
      "content=' the' additional_kwargs={} response_metadata={} id='run--d3e912af-c2ff-41f4-9374-79e2364ecca4'\n",
      "content=' characteristic' additional_kwargs={} response_metadata={} id='run--d3e912af-c2ff-41f4-9374-79e2364ecca4'\n",
      "content=' that' additional_kwargs={} response_metadata={} id='run--d3e912af-c2ff-41f4-9374-79e2364ecca4'\n",
      "content=' distingu' additional_kwargs={} response_metadata={} id='run--d3e912af-c2ff-41f4-9374-79e2364ecca4'\n",
      "content='ishes' additional_kwargs={} response_metadata={} id='run--d3e912af-c2ff-41f4-9374-79e2364ecca4'\n",
      "content=' living' additional_kwargs={} response_metadata={} id='run--d3e912af-c2ff-41f4-9374-79e2364ecca4'\n",
      "content=' organisms' additional_kwargs={} response_metadata={} id='run--d3e912af-c2ff-41f4-9374-79e2364ecca4'\n",
      "content=' from' additional_kwargs={} response_metadata={} id='run--d3e912af-c2ff-41f4-9374-79e2364ecca4'\n",
      "content=' non' additional_kwargs={} response_metadata={} id='run--d3e912af-c2ff-41f4-9374-79e2364ecca4'\n",
      "content='-l' additional_kwargs={} response_metadata={} id='run--d3e912af-c2ff-41f4-9374-79e2364ecca4'\n",
      "content='iving' additional_kwargs={} response_metadata={} id='run--d3e912af-c2ff-41f4-9374-79e2364ecca4'\n",
      "content=' matter' additional_kwargs={} response_metadata={} id='run--d3e912af-c2ff-41f4-9374-79e2364ecca4'\n",
      "content='.' additional_kwargs={} response_metadata={} id='run--d3e912af-c2ff-41f4-9374-79e2364ecca4'\n",
      "content=' This' additional_kwargs={} response_metadata={} id='run--d3e912af-c2ff-41f4-9374-79e2364ecca4'\n",
      "content=' definition' additional_kwargs={} response_metadata={} id='run--d3e912af-c2ff-41f4-9374-79e2364ecca4'\n",
      "content=' encompasses' additional_kwargs={} response_metadata={} id='run--d3e912af-c2ff-41f4-9374-79e2364ecca4'\n",
      "content=' several' additional_kwargs={} response_metadata={} id='run--d3e912af-c2ff-41f4-9374-79e2364ecca4'\n",
      "content=' key' additional_kwargs={} response_metadata={} id='run--d3e912af-c2ff-41f4-9374-79e2364ecca4'\n",
      "content=' features' additional_kwargs={} response_metadata={} id='run--d3e912af-c2ff-41f4-9374-79e2364ecca4'\n",
      "content=',' additional_kwargs={} response_metadata={} id='run--d3e912af-c2ff-41f4-9374-79e2364ecca4'\n",
      "content=' including' additional_kwargs={} response_metadata={} id='run--d3e912af-c2ff-41f4-9374-79e2364ecca4'\n",
      "content=':\\n\\n' additional_kwargs={} response_metadata={} id='run--d3e912af-c2ff-41f4-9374-79e2364ecca4'\n",
      "content='1' additional_kwargs={} response_metadata={} id='run--d3e912af-c2ff-41f4-9374-79e2364ecca4'\n",
      "content='.' additional_kwargs={} response_metadata={} id='run--d3e912af-c2ff-41f4-9374-79e2364ecca4'\n",
      "content=' **' additional_kwargs={} response_metadata={} id='run--d3e912af-c2ff-41f4-9374-79e2364ecca4'\n",
      "content='Organization' additional_kwargs={} response_metadata={} id='run--d3e912af-c2ff-41f4-9374-79e2364ecca4'\n",
      "content=':**' additional_kwargs={} response_metadata={} id='run--d3e912af-c2ff-41f4-9374-79e2364ecca4'\n",
      "content=' Living' additional_kwargs={} response_metadata={} id='run--d3e912af-c2ff-41f4-9374-79e2364ecca4'\n",
      "content=' organisms' additional_kwargs={} response_metadata={} id='run--d3e912af-c2ff-41f4-9374-79e2364ecca4'\n",
      "content=' are' additional_kwargs={} response_metadata={} id='run--d3e912af-c2ff-41f4-9374-79e2364ecca4'\n",
      "content=' composed' additional_kwargs={} response_metadata={} id='run--d3e912af-c2ff-41f4-9374-79e2364ecca4'\n",
      "content=' of' additional_kwargs={} response_metadata={} id='run--d3e912af-c2ff-41f4-9374-79e2364ecca4'\n",
      "content=' cells' additional_kwargs={} response_metadata={} id='run--d3e912af-c2ff-41f4-9374-79e2364ecca4'\n",
      "content=',' additional_kwargs={} response_metadata={} id='run--d3e912af-c2ff-41f4-9374-79e2364ecca4'\n",
      "content=' which' additional_kwargs={} response_metadata={} id='run--d3e912af-c2ff-41f4-9374-79e2364ecca4'\n",
      "content=' are' additional_kwargs={} response_metadata={} id='run--d3e912af-c2ff-41f4-9374-79e2364ecca4'\n",
      "content=' the' additional_kwargs={} response_metadata={} id='run--d3e912af-c2ff-41f4-9374-79e2364ecca4'\n",
      "content=' basic' additional_kwargs={} response_metadata={} id='run--d3e912af-c2ff-41f4-9374-79e2364ecca4'\n",
      "content=' structural' additional_kwargs={} response_metadata={} id='run--d3e912af-c2ff-41f4-9374-79e2364ecca4'\n",
      "content=' and' additional_kwargs={} response_metadata={} id='run--d3e912af-c2ff-41f4-9374-79e2364ecca4'\n",
      "content=' functional' additional_kwargs={} response_metadata={} id='run--d3e912af-c2ff-41f4-9374-79e2364ecca4'\n",
      "content=' units' additional_kwargs={} response_metadata={} id='run--d3e912af-c2ff-41f4-9374-79e2364ecca4'\n",
      "content=' of' additional_kwargs={} response_metadata={} id='run--d3e912af-c2ff-41f4-9374-79e2364ecca4'\n",
      "content=' life' additional_kwargs={} response_metadata={} id='run--d3e912af-c2ff-41f4-9374-79e2364ecca4'\n",
      "content='.\\n' additional_kwargs={} response_metadata={} id='run--d3e912af-c2ff-41f4-9374-79e2364ecca4'\n",
      "content='2' additional_kwargs={} response_metadata={} id='run--d3e912af-c2ff-41f4-9374-79e2364ecca4'\n",
      "content='.' additional_kwargs={} response_metadata={} id='run--d3e912af-c2ff-41f4-9374-79e2364ecca4'\n",
      "content=' **' additional_kwargs={} response_metadata={} id='run--d3e912af-c2ff-41f4-9374-79e2364ecca4'\n",
      "content='Met' additional_kwargs={} response_metadata={} id='run--d3e912af-c2ff-41f4-9374-79e2364ecca4'\n",
      "content='abol' additional_kwargs={} response_metadata={} id='run--d3e912af-c2ff-41f4-9374-79e2364ecca4'\n",
      "content='ism' additional_kwargs={} response_metadata={} id='run--d3e912af-c2ff-41f4-9374-79e2364ecca4'\n",
      "content=':**' additional_kwargs={} response_metadata={} id='run--d3e912af-c2ff-41f4-9374-79e2364ecca4'\n",
      "content=' Living' additional_kwargs={} response_metadata={} id='run--d3e912af-c2ff-41f4-9374-79e2364ecca4'\n",
      "content=' organisms' additional_kwargs={} response_metadata={} id='run--d3e912af-c2ff-41f4-9374-79e2364ecca4'\n",
      "content=' carry' additional_kwargs={} response_metadata={} id='run--d3e912af-c2ff-41f4-9374-79e2364ecca4'\n",
      "content=' out' additional_kwargs={} response_metadata={} id='run--d3e912af-c2ff-41f4-9374-79e2364ecca4'\n",
      "content=' chemical' additional_kwargs={} response_metadata={} id='run--d3e912af-c2ff-41f4-9374-79e2364ecca4'\n",
      "content=' reactions' additional_kwargs={} response_metadata={} id='run--d3e912af-c2ff-41f4-9374-79e2364ecca4'\n",
      "content=' that' additional_kwargs={} response_metadata={} id='run--d3e912af-c2ff-41f4-9374-79e2364ecca4'\n",
      "content=' convert' additional_kwargs={} response_metadata={} id='run--d3e912af-c2ff-41f4-9374-79e2364ecca4'\n",
      "content=' energy' additional_kwargs={} response_metadata={} id='run--d3e912af-c2ff-41f4-9374-79e2364ecca4'\n",
      "content=' and' additional_kwargs={} response_metadata={} id='run--d3e912af-c2ff-41f4-9374-79e2364ecca4'\n",
      "content=' nutrients' additional_kwargs={} response_metadata={} id='run--d3e912af-c2ff-41f4-9374-79e2364ecca4'\n",
      "content=' into' additional_kwargs={} response_metadata={} id='run--d3e912af-c2ff-41f4-9374-79e2364ecca4'\n",
      "content=' biomass' additional_kwargs={} response_metadata={} id='run--d3e912af-c2ff-41f4-9374-79e2364ecca4'\n",
      "content=' and' additional_kwargs={} response_metadata={} id='run--d3e912af-c2ff-41f4-9374-79e2364ecca4'\n",
      "content=' waste' additional_kwargs={} response_metadata={} id='run--d3e912af-c2ff-41f4-9374-79e2364ecca4'\n",
      "content=' products' additional_kwargs={} response_metadata={} id='run--d3e912af-c2ff-41f4-9374-79e2364ecca4'\n",
      "content='.\\n' additional_kwargs={} response_metadata={} id='run--d3e912af-c2ff-41f4-9374-79e2364ecca4'\n",
      "content='3' additional_kwargs={} response_metadata={} id='run--d3e912af-c2ff-41f4-9374-79e2364ecca4'\n",
      "content='.' additional_kwargs={} response_metadata={} id='run--d3e912af-c2ff-41f4-9374-79e2364ecca4'\n",
      "content=' **' additional_kwargs={} response_metadata={} id='run--d3e912af-c2ff-41f4-9374-79e2364ecca4'\n",
      "content='Home' additional_kwargs={} response_metadata={} id='run--d3e912af-c2ff-41f4-9374-79e2364ecca4'\n",
      "content='ost' additional_kwargs={} response_metadata={} id='run--d3e912af-c2ff-41f4-9374-79e2364ecca4'\n",
      "content='asis' additional_kwargs={} response_metadata={} id='run--d3e912af-c2ff-41f4-9374-79e2364ecca4'\n",
      "content=':**' additional_kwargs={} response_metadata={} id='run--d3e912af-c2ff-41f4-9374-79e2364ecca4'\n",
      "content=' Living' additional_kwargs={} response_metadata={} id='run--d3e912af-c2ff-41f4-9374-79e2364ecca4'\n",
      "content=' organisms' additional_kwargs={} response_metadata={} id='run--d3e912af-c2ff-41f4-9374-79e2364ecca4'\n",
      "content=' maintain' additional_kwargs={} response_metadata={} id='run--d3e912af-c2ff-41f4-9374-79e2364ecca4'\n",
      "content=' a' additional_kwargs={} response_metadata={} id='run--d3e912af-c2ff-41f4-9374-79e2364ecca4'\n",
      "content=' stable' additional_kwargs={} response_metadata={} id='run--d3e912af-c2ff-41f4-9374-79e2364ecca4'\n",
      "content=' internal' additional_kwargs={} response_metadata={} id='run--d3e912af-c2ff-41f4-9374-79e2364ecca4'\n",
      "content=' environment' additional_kwargs={} response_metadata={} id='run--d3e912af-c2ff-41f4-9374-79e2364ecca4'\n",
      "content=' despite' additional_kwargs={} response_metadata={} id='run--d3e912af-c2ff-41f4-9374-79e2364ecca4'\n",
      "content=' changes' additional_kwargs={} response_metadata={} id='run--d3e912af-c2ff-41f4-9374-79e2364ecca4'\n",
      "content=' in' additional_kwargs={} response_metadata={} id='run--d3e912af-c2ff-41f4-9374-79e2364ecca4'\n",
      "content=' the' additional_kwargs={} response_metadata={} id='run--d3e912af-c2ff-41f4-9374-79e2364ecca4'\n",
      "content=' external' additional_kwargs={} response_metadata={} id='run--d3e912af-c2ff-41f4-9374-79e2364ecca4'\n",
      "content=' environment' additional_kwargs={} response_metadata={} id='run--d3e912af-c2ff-41f4-9374-79e2364ecca4'\n",
      "content='.\\n' additional_kwargs={} response_metadata={} id='run--d3e912af-c2ff-41f4-9374-79e2364ecca4'\n",
      "content='4' additional_kwargs={} response_metadata={} id='run--d3e912af-c2ff-41f4-9374-79e2364ecca4'\n",
      "content='.' additional_kwargs={} response_metadata={} id='run--d3e912af-c2ff-41f4-9374-79e2364ecca4'\n",
      "content=' **' additional_kwargs={} response_metadata={} id='run--d3e912af-c2ff-41f4-9374-79e2364ecca4'\n",
      "content='G' additional_kwargs={} response_metadata={} id='run--d3e912af-c2ff-41f4-9374-79e2364ecca4'\n",
      "content='rowth' additional_kwargs={} response_metadata={} id='run--d3e912af-c2ff-41f4-9374-79e2364ecca4'\n",
      "content=' and' additional_kwargs={} response_metadata={} id='run--d3e912af-c2ff-41f4-9374-79e2364ecca4'\n",
      "content=' Development' additional_kwargs={} response_metadata={} id='run--d3e912af-c2ff-41f4-9374-79e2364ecca4'\n",
      "content=':**' additional_kwargs={} response_metadata={} id='run--d3e912af-c2ff-41f4-9374-79e2364ecca4'\n",
      "content=' Living' additional_kwargs={} response_metadata={} id='run--d3e912af-c2ff-41f4-9374-79e2364ecca4'\n",
      "content=' organisms' additional_kwargs={} response_metadata={} id='run--d3e912af-c2ff-41f4-9374-79e2364ecca4'\n",
      "content=' grow' additional_kwargs={} response_metadata={} id='run--d3e912af-c2ff-41f4-9374-79e2364ecca4'\n",
      "content=' and' additional_kwargs={} response_metadata={} id='run--d3e912af-c2ff-41f4-9374-79e2364ecca4'\n",
      "content=' develop' additional_kwargs={} response_metadata={} id='run--d3e912af-c2ff-41f4-9374-79e2364ecca4'\n",
      "content=' through' additional_kwargs={} response_metadata={} id='run--d3e912af-c2ff-41f4-9374-79e2364ecca4'\n",
      "content=' the' additional_kwargs={} response_metadata={} id='run--d3e912af-c2ff-41f4-9374-79e2364ecca4'\n",
      "content=' process' additional_kwargs={} response_metadata={} id='run--d3e912af-c2ff-41f4-9374-79e2364ecca4'\n",
      "content=' of' additional_kwargs={} response_metadata={} id='run--d3e912af-c2ff-41f4-9374-79e2364ecca4'\n",
      "content=' cell' additional_kwargs={} response_metadata={} id='run--d3e912af-c2ff-41f4-9374-79e2364ecca4'\n",
      "content=' division' additional_kwargs={} response_metadata={} id='run--d3e912af-c2ff-41f4-9374-79e2364ecca4'\n",
      "content=' and' additional_kwargs={} response_metadata={} id='run--d3e912af-c2ff-41f4-9374-79e2364ecca4'\n",
      "content=' differentiation' additional_kwargs={} response_metadata={} id='run--d3e912af-c2ff-41f4-9374-79e2364ecca4'\n",
      "content='.\\n' additional_kwargs={} response_metadata={} id='run--d3e912af-c2ff-41f4-9374-79e2364ecca4'\n",
      "content='5' additional_kwargs={} response_metadata={} id='run--d3e912af-c2ff-41f4-9374-79e2364ecca4'\n",
      "content='.' additional_kwargs={} response_metadata={} id='run--d3e912af-c2ff-41f4-9374-79e2364ecca4'\n",
      "content=' **' additional_kwargs={} response_metadata={} id='run--d3e912af-c2ff-41f4-9374-79e2364ecca4'\n",
      "content='Re' additional_kwargs={} response_metadata={} id='run--d3e912af-c2ff-41f4-9374-79e2364ecca4'\n",
      "content='production' additional_kwargs={} response_metadata={} id='run--d3e912af-c2ff-41f4-9374-79e2364ecca4'\n",
      "content=':**' additional_kwargs={} response_metadata={} id='run--d3e912af-c2ff-41f4-9374-79e2364ecca4'\n",
      "content=' Living' additional_kwargs={} response_metadata={} id='run--d3e912af-c2ff-41f4-9374-79e2364ecca4'\n",
      "content=' organisms' additional_kwargs={} response_metadata={} id='run--d3e912af-c2ff-41f4-9374-79e2364ecca4'\n",
      "content=' produce' additional_kwargs={} response_metadata={} id='run--d3e912af-c2ff-41f4-9374-79e2364ecca4'\n",
      "content=' offspring' additional_kwargs={} response_metadata={} id='run--d3e912af-c2ff-41f4-9374-79e2364ecca4'\n",
      "content=',' additional_kwargs={} response_metadata={} id='run--d3e912af-c2ff-41f4-9374-79e2364ecca4'\n",
      "content=' either' additional_kwargs={} response_metadata={} id='run--d3e912af-c2ff-41f4-9374-79e2364ecca4'\n",
      "content=' sexually' additional_kwargs={} response_metadata={} id='run--d3e912af-c2ff-41f4-9374-79e2364ecca4'\n",
      "content=' or' additional_kwargs={} response_metadata={} id='run--d3e912af-c2ff-41f4-9374-79e2364ecca4'\n",
      "content=' a' additional_kwargs={} response_metadata={} id='run--d3e912af-c2ff-41f4-9374-79e2364ecca4'\n",
      "content='sex' additional_kwargs={} response_metadata={} id='run--d3e912af-c2ff-41f4-9374-79e2364ecca4'\n",
      "content='ually' additional_kwargs={} response_metadata={} id='run--d3e912af-c2ff-41f4-9374-79e2364ecca4'\n",
      "content=',' additional_kwargs={} response_metadata={} id='run--d3e912af-c2ff-41f4-9374-79e2364ecca4'\n",
      "content=' to' additional_kwargs={} response_metadata={} id='run--d3e912af-c2ff-41f4-9374-79e2364ecca4'\n",
      "content=' ensure' additional_kwargs={} response_metadata={} id='run--d3e912af-c2ff-41f4-9374-79e2364ecca4'\n",
      "content=' the' additional_kwargs={} response_metadata={} id='run--d3e912af-c2ff-41f4-9374-79e2364ecca4'\n",
      "content=' continuation' additional_kwargs={} response_metadata={} id='run--d3e912af-c2ff-41f4-9374-79e2364ecca4'\n",
      "content=' of' additional_kwargs={} response_metadata={} id='run--d3e912af-c2ff-41f4-9374-79e2364ecca4'\n",
      "content=' their' additional_kwargs={} response_metadata={} id='run--d3e912af-c2ff-41f4-9374-79e2364ecca4'\n",
      "content=' genetic' additional_kwargs={} response_metadata={} id='run--d3e912af-c2ff-41f4-9374-79e2364ecca4'\n",
      "content=' material' additional_kwargs={} response_metadata={} id='run--d3e912af-c2ff-41f4-9374-79e2364ecca4'\n",
      "content='.\\n' additional_kwargs={} response_metadata={} id='run--d3e912af-c2ff-41f4-9374-79e2364ecca4'\n",
      "content='6' additional_kwargs={} response_metadata={} id='run--d3e912af-c2ff-41f4-9374-79e2364ecca4'\n",
      "content='.' additional_kwargs={} response_metadata={} id='run--d3e912af-c2ff-41f4-9374-79e2364ecca4'\n",
      "content=' **' additional_kwargs={} response_metadata={} id='run--d3e912af-c2ff-41f4-9374-79e2364ecca4'\n",
      "content='Response' additional_kwargs={} response_metadata={} id='run--d3e912af-c2ff-41f4-9374-79e2364ecca4'\n",
      "content=' to' additional_kwargs={} response_metadata={} id='run--d3e912af-c2ff-41f4-9374-79e2364ecca4'\n",
      "content=' Stim' additional_kwargs={} response_metadata={} id='run--d3e912af-c2ff-41f4-9374-79e2364ecca4'\n",
      "content='uli' additional_kwargs={} response_metadata={} id='run--d3e912af-c2ff-41f4-9374-79e2364ecca4'\n",
      "content=':**' additional_kwargs={} response_metadata={} id='run--d3e912af-c2ff-41f4-9374-79e2364ecca4'\n",
      "content=' Living' additional_kwargs={} response_metadata={} id='run--d3e912af-c2ff-41f4-9374-79e2364ecca4'\n",
      "content=' organisms' additional_kwargs={} response_metadata={} id='run--d3e912af-c2ff-41f4-9374-79e2364ecca4'\n",
      "content=' respond' additional_kwargs={} response_metadata={} id='run--d3e912af-c2ff-41f4-9374-79e2364ecca4'\n",
      "content=' to' additional_kwargs={} response_metadata={} id='run--d3e912af-c2ff-41f4-9374-79e2364ecca4'\n",
      "content=' external' additional_kwargs={} response_metadata={} id='run--d3e912af-c2ff-41f4-9374-79e2364ecca4'\n",
      "content=' stimuli' additional_kwargs={} response_metadata={} id='run--d3e912af-c2ff-41f4-9374-79e2364ecca4'\n",
      "content=',' additional_kwargs={} response_metadata={} id='run--d3e912af-c2ff-41f4-9374-79e2364ecca4'\n",
      "content=' such' additional_kwargs={} response_metadata={} id='run--d3e912af-c2ff-41f4-9374-79e2364ecca4'\n",
      "content=' as' additional_kwargs={} response_metadata={} id='run--d3e912af-c2ff-41f4-9374-79e2364ecca4'\n",
      "content=' light' additional_kwargs={} response_metadata={} id='run--d3e912af-c2ff-41f4-9374-79e2364ecca4'\n",
      "content=',' additional_kwargs={} response_metadata={} id='run--d3e912af-c2ff-41f4-9374-79e2364ecca4'\n",
      "content=' temperature' additional_kwargs={} response_metadata={} id='run--d3e912af-c2ff-41f4-9374-79e2364ecca4'\n",
      "content=',' additional_kwargs={} response_metadata={} id='run--d3e912af-c2ff-41f4-9374-79e2364ecca4'\n",
      "content=' and' additional_kwargs={} response_metadata={} id='run--d3e912af-c2ff-41f4-9374-79e2364ecca4'\n",
      "content=' touch' additional_kwargs={} response_metadata={} id='run--d3e912af-c2ff-41f4-9374-79e2364ecca4'\n",
      "content='.\\n' additional_kwargs={} response_metadata={} id='run--d3e912af-c2ff-41f4-9374-79e2364ecca4'\n",
      "content='7' additional_kwargs={} response_metadata={} id='run--d3e912af-c2ff-41f4-9374-79e2364ecca4'\n",
      "content='.' additional_kwargs={} response_metadata={} id='run--d3e912af-c2ff-41f4-9374-79e2364ecca4'\n",
      "content=' **' additional_kwargs={} response_metadata={} id='run--d3e912af-c2ff-41f4-9374-79e2364ecca4'\n",
      "content='Ev' additional_kwargs={} response_metadata={} id='run--d3e912af-c2ff-41f4-9374-79e2364ecca4'\n",
      "content='olution' additional_kwargs={} response_metadata={} id='run--d3e912af-c2ff-41f4-9374-79e2364ecca4'\n",
      "content=':**' additional_kwargs={} response_metadata={} id='run--d3e912af-c2ff-41f4-9374-79e2364ecca4'\n",
      "content=' Living' additional_kwargs={} response_metadata={} id='run--d3e912af-c2ff-41f4-9374-79e2364ecca4'\n",
      "content=' organisms' additional_kwargs={} response_metadata={} id='run--d3e912af-c2ff-41f4-9374-79e2364ecca4'\n",
      "content=' evolve' additional_kwargs={} response_metadata={} id='run--d3e912af-c2ff-41f4-9374-79e2364ecca4'\n",
      "content=' over' additional_kwargs={} response_metadata={} id='run--d3e912af-c2ff-41f4-9374-79e2364ecca4'\n",
      "content=' time' additional_kwargs={} response_metadata={} id='run--d3e912af-c2ff-41f4-9374-79e2364ecca4'\n",
      "content=' through' additional_kwargs={} response_metadata={} id='run--d3e912af-c2ff-41f4-9374-79e2364ecca4'\n",
      "content=' the' additional_kwargs={} response_metadata={} id='run--d3e912af-c2ff-41f4-9374-79e2364ecca4'\n",
      "content=' process' additional_kwargs={} response_metadata={} id='run--d3e912af-c2ff-41f4-9374-79e2364ecca4'\n",
      "content=' of' additional_kwargs={} response_metadata={} id='run--d3e912af-c2ff-41f4-9374-79e2364ecca4'\n",
      "content=' natural' additional_kwargs={} response_metadata={} id='run--d3e912af-c2ff-41f4-9374-79e2364ecca4'\n",
      "content=' selection' additional_kwargs={} response_metadata={} id='run--d3e912af-c2ff-41f4-9374-79e2364ecca4'\n",
      "content=' and' additional_kwargs={} response_metadata={} id='run--d3e912af-c2ff-41f4-9374-79e2364ecca4'\n",
      "content=' genetic' additional_kwargs={} response_metadata={} id='run--d3e912af-c2ff-41f4-9374-79e2364ecca4'\n",
      "content=' drift' additional_kwargs={} response_metadata={} id='run--d3e912af-c2ff-41f4-9374-79e2364ecca4'\n",
      "content='.\\n\\n' additional_kwargs={} response_metadata={} id='run--d3e912af-c2ff-41f4-9374-79e2364ecca4'\n",
      "content='**' additional_kwargs={} response_metadata={} id='run--d3e912af-c2ff-41f4-9374-79e2364ecca4'\n",
      "content='Phil' additional_kwargs={} response_metadata={} id='run--d3e912af-c2ff-41f4-9374-79e2364ecca4'\n",
      "content='osoph' additional_kwargs={} response_metadata={} id='run--d3e912af-c2ff-41f4-9374-79e2364ecca4'\n",
      "content='ical' additional_kwargs={} response_metadata={} id='run--d3e912af-c2ff-41f4-9374-79e2364ecca4'\n",
      "content=' perspective' additional_kwargs={} response_metadata={} id='run--d3e912af-c2ff-41f4-9374-79e2364ecca4'\n",
      "content=':' additional_kwargs={} response_metadata={} id='run--d3e912af-c2ff-41f4-9374-79e2364ecca4'\n",
      "content='**\\n\\n' additional_kwargs={} response_metadata={} id='run--d3e912af-c2ff-41f4-9374-79e2364ecca4'\n",
      "content='From' additional_kwargs={} response_metadata={} id='run--d3e912af-c2ff-41f4-9374-79e2364ecca4'\n",
      "content=' a' additional_kwargs={} response_metadata={} id='run--d3e912af-c2ff-41f4-9374-79e2364ecca4'\n",
      "content=' philosophical' additional_kwargs={} response_metadata={} id='run--d3e912af-c2ff-41f4-9374-79e2364ecca4'\n",
      "content=' standpoint' additional_kwargs={} response_metadata={} id='run--d3e912af-c2ff-41f4-9374-79e2364ecca4'\n",
      "content=',' additional_kwargs={} response_metadata={} id='run--d3e912af-c2ff-41f4-9374-79e2364ecca4'\n",
      "content=' life' additional_kwargs={} response_metadata={} id='run--d3e912af-c2ff-41f4-9374-79e2364ecca4'\n",
      "content=' is' additional_kwargs={} response_metadata={} id='run--d3e912af-c2ff-41f4-9374-79e2364ecca4'\n",
      "content=' often' additional_kwargs={} response_metadata={} id='run--d3e912af-c2ff-41f4-9374-79e2364ecca4'\n",
      "content=' considered' additional_kwargs={} response_metadata={} id='run--d3e912af-c2ff-41f4-9374-79e2364ecca4'\n",
      "content=' a' additional_kwargs={} response_metadata={} id='run--d3e912af-c2ff-41f4-9374-79e2364ecca4'\n",
      "content=' fundamental' additional_kwargs={} response_metadata={} id='run--d3e912af-c2ff-41f4-9374-79e2364ecca4'\n",
      "content=' aspect' additional_kwargs={} response_metadata={} id='run--d3e912af-c2ff-41f4-9374-79e2364ecca4'\n",
      "content=' of' additional_kwargs={} response_metadata={} id='run--d3e912af-c2ff-41f4-9374-79e2364ecca4'\n",
      "content=' existence' additional_kwargs={} response_metadata={} id='run--d3e912af-c2ff-41f4-9374-79e2364ecca4'\n",
      "content=',' additional_kwargs={} response_metadata={} id='run--d3e912af-c2ff-41f4-9374-79e2364ecca4'\n",
      "content=' encompass' additional_kwargs={} response_metadata={} id='run--d3e912af-c2ff-41f4-9374-79e2364ecca4'\n",
      "content='ing' additional_kwargs={} response_metadata={} id='run--d3e912af-c2ff-41f4-9374-79e2364ecca4'\n",
      "content=' various' additional_kwargs={} response_metadata={} id='run--d3e912af-c2ff-41f4-9374-79e2364ecca4'\n",
      "content=' dimensions' additional_kwargs={} response_metadata={} id='run--d3e912af-c2ff-41f4-9374-79e2364ecca4'\n",
      "content=',' additional_kwargs={} response_metadata={} id='run--d3e912af-c2ff-41f4-9374-79e2364ecca4'\n",
      "content=' including' additional_kwargs={} response_metadata={} id='run--d3e912af-c2ff-41f4-9374-79e2364ecca4'\n",
      "content=':\\n\\n' additional_kwargs={} response_metadata={} id='run--d3e912af-c2ff-41f4-9374-79e2364ecca4'\n",
      "content='1' additional_kwargs={} response_metadata={} id='run--d3e912af-c2ff-41f4-9374-79e2364ecca4'\n",
      "content='.' additional_kwargs={} response_metadata={} id='run--d3e912af-c2ff-41f4-9374-79e2364ecca4'\n",
      "content=' **' additional_kwargs={} response_metadata={} id='run--d3e912af-c2ff-41f4-9374-79e2364ecca4'\n",
      "content='Con' additional_kwargs={} response_metadata={} id='run--d3e912af-c2ff-41f4-9374-79e2364ecca4'\n",
      "content='scious' additional_kwargs={} response_metadata={} id='run--d3e912af-c2ff-41f4-9374-79e2364ecca4'\n",
      "content='ness' additional_kwargs={} response_metadata={} id='run--d3e912af-c2ff-41f4-9374-79e2364ecca4'\n",
      "content=':**' additional_kwargs={} response_metadata={} id='run--d3e912af-c2ff-41f4-9374-79e2364ecca4'\n"
     ]
    },
    {
     "ename": "KeyboardInterrupt",
     "evalue": "",
     "output_type": "error",
     "traceback": [
      "\u001b[1;31m---------------------------------------------------------------------------\u001b[0m",
      "\u001b[1;31mKeyboardInterrupt\u001b[0m                         Traceback (most recent call last)",
      "Cell \u001b[1;32mIn[27], line 5\u001b[0m\n\u001b[0;32m      2\u001b[0m \u001b[38;5;28;01mimport\u001b[39;00m\u001b[38;5;250m \u001b[39m\u001b[38;5;21;01mtime\u001b[39;00m\n\u001b[0;32m      4\u001b[0m \u001b[38;5;28;01mfor\u001b[39;00m token \u001b[38;5;129;01min\u001b[39;00m model\u001b[38;5;241m.\u001b[39mstream(\u001b[38;5;124m\"\u001b[39m\u001b[38;5;124mwhat is life?\u001b[39m\u001b[38;5;124m\"\u001b[39m):\n\u001b[1;32m----> 5\u001b[0m     \u001b[43mtime\u001b[49m\u001b[38;5;241;43m.\u001b[39;49m\u001b[43msleep\u001b[49m\u001b[43m(\u001b[49m\u001b[38;5;241;43m0.1\u001b[39;49m\u001b[43m)\u001b[49m\n\u001b[0;32m      6\u001b[0m     \u001b[38;5;66;03m#print(token.content, end=\"|\")\u001b[39;00m\n\u001b[0;32m      7\u001b[0m     \u001b[38;5;28mprint\u001b[39m(token)\n",
      "\u001b[1;31mKeyboardInterrupt\u001b[0m: "
     ]
    }
   ],
   "source": [
    "# streaming example\n",
    "import time\n",
    "\n",
    "for token in model.stream(\"what is life?\"):\n",
    "    time.sleep(0.1)\n",
    "    #print(token.content, end=\"|\")\n",
    "    print(token)"
   ]
  },
  {
   "cell_type": "code",
   "execution_count": 22,
   "id": "8f083693",
   "metadata": {},
   "outputs": [
    {
     "data": {
      "text/plain": [
       "<generator object BaseChatModel.stream at 0x000001306B4968C0>"
      ]
     },
     "execution_count": 22,
     "metadata": {},
     "output_type": "execute_result"
    }
   ],
   "source": [
    "model.stream(\"hello\")"
   ]
  },
  {
   "cell_type": "code",
   "execution_count": null,
   "id": "6837d022",
   "metadata": {},
   "outputs": [],
   "source": [
    "# Class discussion point: What is an LLM as a program"
   ]
  },
  {
   "cell_type": "code",
   "execution_count": null,
   "id": "0ca534bf",
   "metadata": {},
   "outputs": [],
   "source": []
  }
 ],
 "metadata": {
  "kernelspec": {
   "display_name": "venv (Python 3.13.5)",
   "language": "python",
   "name": "venv"
  },
  "language_info": {
   "codemirror_mode": {
    "name": "ipython",
    "version": 3
   },
   "file_extension": ".py",
   "mimetype": "text/x-python",
   "name": "python",
   "nbconvert_exporter": "python",
   "pygments_lexer": "ipython3",
   "version": "3.13.5"
  }
 },
 "nbformat": 4,
 "nbformat_minor": 5
}
