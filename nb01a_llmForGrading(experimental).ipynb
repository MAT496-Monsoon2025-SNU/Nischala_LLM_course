{
 "cells": [
  {
   "cell_type": "code",
   "execution_count": 1,
   "id": "7cf4edb2",
   "metadata": {
    "tags": [
     "test"
    ]
   },
   "outputs": [
    {
     "data": {
      "text/plain": [
       "True"
      ]
     },
     "execution_count": 1,
     "metadata": {},
     "output_type": "execute_result"
    }
   ],
   "source": [
    "# Load the saved API keys\n",
    "\n",
    "import os\n",
    "from dotenv import load_dotenv\n",
    "load_dotenv()"
   ]
  },
  {
   "cell_type": "code",
   "execution_count": 2,
   "id": "63108a82",
   "metadata": {},
   "outputs": [
    {
     "name": "stderr",
     "output_type": "stream",
     "text": [
      "c:\\Users\\rishi\\myproject\\venv\\Lib\\site-packages\\tqdm\\auto.py:21: TqdmWarning: IProgress not found. Please update jupyter and ipywidgets. See https://ipywidgets.readthedocs.io/en/stable/user_install.html\n",
      "  from .autonotebook import tqdm as notebook_tqdm\n"
     ]
    }
   ],
   "source": [
    "from langchain.chat_models import init_chat_model\n",
    "model = init_chat_model(\"gpt-4o-mini\", model_provider=\"openai\")"
   ]
  },
  {
   "cell_type": "markdown",
   "id": "ec349e40",
   "metadata": {},
   "source": [
    "## Example "
   ]
  },
  {
   "cell_type": "code",
   "execution_count": 4,
   "id": "8d1de840",
   "metadata": {},
   "outputs": [
    {
     "data": {
      "text/markdown": [
       "## Question  \n",
       "Why is Ram upset over Sam?  \n",
       "## IdealAnswer  \n",
       "Because Sam has borrowed money from Ram and has not returned it  \n",
       "## StudentAnswer  \n",
       "Because Sam has not returned the money he owes to Ram \n",
       "## Marks:9  \n",
       "## Marks Explanation  \n",
       "The student's answer is very close to the ideal answer, correctly stating that Sam has not returned the money he owes to Ram, which is the reason for Ram's upset. However, a small deduction is made because the student's answer uses the phrase \"owes to Ram\" instead of \"borrowed from Ram\", which is a minor difference in wording. The student's answer still conveys the same meaning as the ideal answer, but it is not a perfect match, hence the 1-mark deduction."
      ],
      "text/plain": [
       "<IPython.core.display.Markdown object>"
      ]
     },
     "execution_count": 4,
     "metadata": {},
     "output_type": "execute_result"
    }
   ],
   "source": [
    "from langchain.chat_models import init_chat_model\n",
    "model = init_chat_model(\"llama-3.3-70b-versatile\", model_provider=\"groq\")\n",
    "\n",
    "prompt = \"\"\"\n",
    "You are an assignment grader. Compare the student's answer with the teacher's ideal answer. If the student's answer fully matches the teacher's, award 10 marks. Otherwise, assign partial marks from 0 to 9, based on how closely the student's answer aligns with the ideal answer.\n",
    "\n",
    "Provide your evaluation in the following format:\n",
    "\n",
    "shell\n",
    "Copy\n",
    "Edit\n",
    "## Question  \n",
    "{question}  \n",
    "## IdealAnswer  \n",
    "{ideal_answer}  \n",
    "## StudentAnswer  \n",
    "{student_answer} \n",
    "## Marks:{{marks}}  \n",
    "## Marks Explanation  \n",
    "{{reason_for_deduction}}  \n",
    "Be fair and specific in your evaluation. Focus on correctness, completeness, and relevance of the student’s answer when comparing it to the ideal answer.\n",
    "\"\"\"\n",
    "\n",
    "response = model.invoke(prompt.format(\n",
    "    question=\"Why is Ram upset over Sam?\", \n",
    "    ideal_answer=\"Because Sam has borrowed money from Ram and and has not returned it\",\n",
    "    student_answer=\"Because Sam has not returned the money he owe to Ram\"))\n",
    "from IPython.display import Markdown\n",
    "Markdown(response.content)"
   ]
  },
  {
   "cell_type": "code",
   "execution_count": 5,
   "id": "f46a4501",
   "metadata": {},
   "outputs": [
    {
     "data": {
      "text/markdown": [
       "## Question  \n",
       "What does WTF stand for?  \n",
       "## IdealAnswer  \n",
       "WTF stands for Wednesday Thursday Friday  \n",
       "## StudentAnswer  \n",
       "Wednesday Thursday Friday \n",
       "## Marks:10  \n",
       "## Marks Explanation  \n",
       "The student's answer fully matches the teacher's ideal answer, demonstrating correctness, completeness, and relevance. The student correctly identified that WTF stands for Wednesday Thursday Friday, without any omissions or additions, thereby deserving the full 10 marks."
      ],
      "text/plain": [
       "<IPython.core.display.Markdown object>"
      ]
     },
     "execution_count": 5,
     "metadata": {},
     "output_type": "execute_result"
    }
   ],
   "source": [
    "response = model.invoke(prompt.format(\n",
    "    question=\"What does WTF stands for?\", \n",
    "    ideal_answer=\"WTF stands for Wednesday Thursday Friday\",\n",
    "    student_answer=\"Wednesday Thursday Friday\"))\n",
    "from IPython.display import Markdown\n",
    "Markdown(response.content)"
   ]
  },
  {
   "cell_type": "code",
   "execution_count": null,
   "id": "8e80bab4",
   "metadata": {},
   "outputs": [],
   "source": []
  }
 ],
 "metadata": {
  "kernelspec": {
   "display_name": "Python (venv)",
   "language": "python",
   "name": "venv"
  },
  "language_info": {
   "codemirror_mode": {
    "name": "ipython",
    "version": 3
   },
   "file_extension": ".py",
   "mimetype": "text/x-python",
   "name": "python",
   "nbconvert_exporter": "python",
   "pygments_lexer": "ipython3",
   "version": "3.13.5"
  }
 },
 "nbformat": 4,
 "nbformat_minor": 5
}
