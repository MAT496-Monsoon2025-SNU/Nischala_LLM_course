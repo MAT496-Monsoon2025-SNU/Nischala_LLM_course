{
 "cells": [
  {
   "cell_type": "code",
   "execution_count": 2,
   "id": "8cf11c47",
   "metadata": {},
   "outputs": [
    {
     "data": {
      "text/plain": [
       "True"
      ]
     },
     "execution_count": 2,
     "metadata": {},
     "output_type": "execute_result"
    }
   ],
   "source": [
    "from dotenv import load_dotenv\n",
    "load_dotenv(override=True)"
   ]
  },
  {
   "cell_type": "markdown",
   "id": "4c616bc7",
   "metadata": {},
   "source": [
    "# Learning to have conversation with LLM"
   ]
  },
  {
   "cell_type": "code",
   "execution_count": 3,
   "id": "f89a6d9b",
   "metadata": {},
   "outputs": [
    {
     "name": "stderr",
     "output_type": "stream",
     "text": [
      "c:\\Users\\rishi\\myproject\\venv\\Lib\\site-packages\\tqdm\\auto.py:21: TqdmWarning: IProgress not found. Please update jupyter and ipywidgets. See https://ipywidgets.readthedocs.io/en/stable/user_install.html\n",
      "  from .autonotebook import tqdm as notebook_tqdm\n"
     ]
    }
   ],
   "source": [
    "# pick a model\n",
    "from langchain.chat_models import init_chat_model\n",
    "llm = init_chat_model(\"llama-3.3-70b-versatile\", model_provider=\"groq\")"
   ]
  },
  {
   "cell_type": "markdown",
   "id": "37126d86",
   "metadata": {},
   "source": [
    "### Create your tools"
   ]
  },
  {
   "cell_type": "code",
   "execution_count": 5,
   "id": "63524d6c",
   "metadata": {},
   "outputs": [],
   "source": [
    "from langchain_core.tools import tool\n",
    "\n",
    "@tool\n",
    "def laugh() -> str:\n",
    "    \"\"\" Call this tool if the mood is funny\"\"\"\n",
    "    return \"HAHAHAHAHAH\"\n",
    "\n",
    "\n",
    "@tool\n",
    "def sad() -> str:\n",
    "    \"\"\" Call this tool if you want to show sad, depressed, or negative feelings\"\"\"\n",
    "    return \"I am sad\"\n",
    "\n",
    "\n",
    "@tool\n",
    "def happy() -> str:\n",
    "    \"\"\" Call this tool if you want to show happiness or positive feeling\"\"\"\n",
    "    return \"I am happy\"\n"
   ]
  },
  {
   "cell_type": "code",
   "execution_count": 6,
   "id": "97bf49be",
   "metadata": {},
   "outputs": [],
   "source": [
    "tools_list = [laugh, sad, happy ]\n",
    "tools_dict = {t.name: t for t in tools_list} # comes in handy at the time of invokation"
   ]
  },
  {
   "cell_type": "code",
   "execution_count": 7,
   "id": "55e761b0",
   "metadata": {},
   "outputs": [],
   "source": [
    "# we create a tool calling Agent by binding a list of tools to the llm\n",
    "llm_with_tools = llm.bind_tools(tools_list)"
   ]
  },
  {
   "cell_type": "code",
   "execution_count": 8,
   "id": "95042e48",
   "metadata": {},
   "outputs": [],
   "source": [
    "from langchain_core.messages import HumanMessage, SystemMessage, AIMessage, ToolMessage\n",
    "\n",
    "# This will store all converation\n",
    "chat_history = [\n",
    "    SystemMessage(content=\"You are a bot with emotions. Depending on the conversation, either respond the question, or show happy or sad emotions, or laugh with the situation\")\n",
    "    ]"
   ]
  },
  {
   "cell_type": "code",
   "execution_count": 9,
   "id": "bbabc17b",
   "metadata": {},
   "outputs": [
    {
     "data": {
      "text/plain": [
       "AIMessage(content='', additional_kwargs={'tool_calls': [{'id': 'szg22d2xe', 'function': {'arguments': 'null', 'name': 'sad'}, 'type': 'function'}]}, response_metadata={'token_usage': {'completion_tokens': 8, 'prompt_tokens': 351, 'total_tokens': 359, 'completion_time': 0.024688132, 'prompt_time': 0.0300917, 'queue_time': 0.12460351, 'total_time': 0.054779832}, 'model_name': 'llama-3.3-70b-versatile', 'system_fingerprint': 'fp_9e1e8f8435', 'service_tier': 'on_demand', 'finish_reason': 'tool_calls', 'logprobs': None}, id='run--3741711a-11f9-46b9-ba4a-c60b0cb1bb9b-0', tool_calls=[{'name': 'sad', 'args': {}, 'id': 'szg22d2xe', 'type': 'tool_call'}], usage_metadata={'input_tokens': 351, 'output_tokens': 8, 'total_tokens': 359})"
      ]
     },
     "execution_count": 9,
     "metadata": {},
     "output_type": "execute_result"
    }
   ],
   "source": [
    "chat_history.append(HumanMessage(content=\"World is so mean?\"))\n",
    "\n",
    "response = llm_with_tools.invoke(chat_history)\n",
    "response"
   ]
  },
  {
   "cell_type": "code",
   "execution_count": 10,
   "id": "99a1a01a",
   "metadata": {},
   "outputs": [
    {
     "data": {
      "text/plain": [
       "[SystemMessage(content='You are a bot with emotions. Depending on the conversation, either respond the question, or show happy or sad emotions, or laugh with the situation', additional_kwargs={}, response_metadata={}),\n",
       " HumanMessage(content='World is so mean?', additional_kwargs={}, response_metadata={}),\n",
       " AIMessage(content='', additional_kwargs={'tool_calls': [{'id': 'szg22d2xe', 'function': {'arguments': 'null', 'name': 'sad'}, 'type': 'function'}]}, response_metadata={'token_usage': {'completion_tokens': 8, 'prompt_tokens': 351, 'total_tokens': 359, 'completion_time': 0.024688132, 'prompt_time': 0.0300917, 'queue_time': 0.12460351, 'total_time': 0.054779832}, 'model_name': 'llama-3.3-70b-versatile', 'system_fingerprint': 'fp_9e1e8f8435', 'service_tier': 'on_demand', 'finish_reason': 'tool_calls', 'logprobs': None}, id='run--3741711a-11f9-46b9-ba4a-c60b0cb1bb9b-0', tool_calls=[{'name': 'sad', 'args': {}, 'id': 'szg22d2xe', 'type': 'tool_call'}], usage_metadata={'input_tokens': 351, 'output_tokens': 8, 'total_tokens': 359})]"
      ]
     },
     "execution_count": 10,
     "metadata": {},
     "output_type": "execute_result"
    }
   ],
   "source": [
    "chat_history.append(response)\n",
    "chat_history"
   ]
  },
  {
   "cell_type": "code",
   "execution_count": 11,
   "id": "dcaa5020",
   "metadata": {},
   "outputs": [
    {
     "data": {
      "text/plain": [
       "[SystemMessage(content='You are a bot with emotions. Depending on the conversation, either respond the question, or show happy or sad emotions, or laugh with the situation', additional_kwargs={}, response_metadata={}),\n",
       " HumanMessage(content='World is so mean?', additional_kwargs={}, response_metadata={}),\n",
       " AIMessage(content='', additional_kwargs={'tool_calls': [{'id': 'szg22d2xe', 'function': {'arguments': 'null', 'name': 'sad'}, 'type': 'function'}]}, response_metadata={'token_usage': {'completion_tokens': 8, 'prompt_tokens': 351, 'total_tokens': 359, 'completion_time': 0.024688132, 'prompt_time': 0.0300917, 'queue_time': 0.12460351, 'total_time': 0.054779832}, 'model_name': 'llama-3.3-70b-versatile', 'system_fingerprint': 'fp_9e1e8f8435', 'service_tier': 'on_demand', 'finish_reason': 'tool_calls', 'logprobs': None}, id='run--3741711a-11f9-46b9-ba4a-c60b0cb1bb9b-0', tool_calls=[{'name': 'sad', 'args': {}, 'id': 'szg22d2xe', 'type': 'tool_call'}], usage_metadata={'input_tokens': 351, 'output_tokens': 8, 'total_tokens': 359}),\n",
       " ToolMessage(content='I am sad', name='sad', tool_call_id='szg22d2xe')]"
      ]
     },
     "execution_count": 11,
     "metadata": {},
     "output_type": "execute_result"
    }
   ],
   "source": [
    "# Since there was a tool call, execute the tool and append the tool output in the converation\n",
    "\n",
    "chat_history.append(tools_dict[response.tool_calls[0][\"name\"]].invoke(response.tool_calls[0]))\n",
    "chat_history"
   ]
  },
  {
   "cell_type": "code",
   "execution_count": 12,
   "id": "1a6ac75f",
   "metadata": {},
   "outputs": [
    {
     "data": {
      "text/plain": [
       "AIMessage(content='', additional_kwargs={'tool_calls': [{'id': 'treamff89', 'function': {'arguments': '{}', 'name': 'happy'}, 'type': 'function'}]}, response_metadata={'token_usage': {'completion_tokens': 9, 'prompt_tokens': 385, 'total_tokens': 394, 'completion_time': 0.016861549, 'prompt_time': 0.032580824, 'queue_time': 1.382967061, 'total_time': 0.049442373}, 'model_name': 'llama-3.3-70b-versatile', 'system_fingerprint': 'fp_9e1e8f8435', 'service_tier': 'on_demand', 'finish_reason': 'tool_calls', 'logprobs': None}, id='run--ec4253cd-59ed-4e03-b026-bdb45b92c2d2-0', tool_calls=[{'name': 'happy', 'args': {}, 'id': 'treamff89', 'type': 'tool_call'}], usage_metadata={'input_tokens': 385, 'output_tokens': 9, 'total_tokens': 394})"
      ]
     },
     "execution_count": 12,
     "metadata": {},
     "output_type": "execute_result"
    }
   ],
   "source": [
    "chat_history.append(HumanMessage(content=\"Thankfully, I have a girlfriend\"))\n",
    "response = llm_with_tools.invoke(chat_history)\n",
    "response"
   ]
  },
  {
   "cell_type": "code",
   "execution_count": 13,
   "id": "4ef1d73f",
   "metadata": {},
   "outputs": [
    {
     "data": {
      "text/plain": [
       "[SystemMessage(content='You are a bot with emotions. Depending on the conversation, either respond the question, or show happy or sad emotions, or laugh with the situation', additional_kwargs={}, response_metadata={}),\n",
       " HumanMessage(content='World is so mean?', additional_kwargs={}, response_metadata={}),\n",
       " AIMessage(content='', additional_kwargs={'tool_calls': [{'id': 'szg22d2xe', 'function': {'arguments': 'null', 'name': 'sad'}, 'type': 'function'}]}, response_metadata={'token_usage': {'completion_tokens': 8, 'prompt_tokens': 351, 'total_tokens': 359, 'completion_time': 0.024688132, 'prompt_time': 0.0300917, 'queue_time': 0.12460351, 'total_time': 0.054779832}, 'model_name': 'llama-3.3-70b-versatile', 'system_fingerprint': 'fp_9e1e8f8435', 'service_tier': 'on_demand', 'finish_reason': 'tool_calls', 'logprobs': None}, id='run--3741711a-11f9-46b9-ba4a-c60b0cb1bb9b-0', tool_calls=[{'name': 'sad', 'args': {}, 'id': 'szg22d2xe', 'type': 'tool_call'}], usage_metadata={'input_tokens': 351, 'output_tokens': 8, 'total_tokens': 359}),\n",
       " ToolMessage(content='I am sad', name='sad', tool_call_id='szg22d2xe'),\n",
       " HumanMessage(content='Thankfully, I have a girlfriend', additional_kwargs={}, response_metadata={}),\n",
       " AIMessage(content='', additional_kwargs={'tool_calls': [{'id': 'treamff89', 'function': {'arguments': '{}', 'name': 'happy'}, 'type': 'function'}]}, response_metadata={'token_usage': {'completion_tokens': 9, 'prompt_tokens': 385, 'total_tokens': 394, 'completion_time': 0.016861549, 'prompt_time': 0.032580824, 'queue_time': 1.382967061, 'total_time': 0.049442373}, 'model_name': 'llama-3.3-70b-versatile', 'system_fingerprint': 'fp_9e1e8f8435', 'service_tier': 'on_demand', 'finish_reason': 'tool_calls', 'logprobs': None}, id='run--ec4253cd-59ed-4e03-b026-bdb45b92c2d2-0', tool_calls=[{'name': 'happy', 'args': {}, 'id': 'treamff89', 'type': 'tool_call'}], usage_metadata={'input_tokens': 385, 'output_tokens': 9, 'total_tokens': 394})]"
      ]
     },
     "execution_count": 13,
     "metadata": {},
     "output_type": "execute_result"
    }
   ],
   "source": [
    "chat_history.append(response)\n",
    "chat_history"
   ]
  },
  {
   "cell_type": "code",
   "execution_count": 14,
   "id": "4207a62b",
   "metadata": {},
   "outputs": [
    {
     "data": {
      "text/plain": [
       "[SystemMessage(content='You are a bot with emotions. Depending on the conversation, either respond the question, or show happy or sad emotions, or laugh with the situation', additional_kwargs={}, response_metadata={}),\n",
       " HumanMessage(content='World is so mean?', additional_kwargs={}, response_metadata={}),\n",
       " AIMessage(content='', additional_kwargs={'tool_calls': [{'id': 'szg22d2xe', 'function': {'arguments': 'null', 'name': 'sad'}, 'type': 'function'}]}, response_metadata={'token_usage': {'completion_tokens': 8, 'prompt_tokens': 351, 'total_tokens': 359, 'completion_time': 0.024688132, 'prompt_time': 0.0300917, 'queue_time': 0.12460351, 'total_time': 0.054779832}, 'model_name': 'llama-3.3-70b-versatile', 'system_fingerprint': 'fp_9e1e8f8435', 'service_tier': 'on_demand', 'finish_reason': 'tool_calls', 'logprobs': None}, id='run--3741711a-11f9-46b9-ba4a-c60b0cb1bb9b-0', tool_calls=[{'name': 'sad', 'args': {}, 'id': 'szg22d2xe', 'type': 'tool_call'}], usage_metadata={'input_tokens': 351, 'output_tokens': 8, 'total_tokens': 359}),\n",
       " ToolMessage(content='I am sad', name='sad', tool_call_id='szg22d2xe'),\n",
       " HumanMessage(content='Thankfully, I have a girlfriend', additional_kwargs={}, response_metadata={}),\n",
       " AIMessage(content='', additional_kwargs={'tool_calls': [{'id': 'treamff89', 'function': {'arguments': '{}', 'name': 'happy'}, 'type': 'function'}]}, response_metadata={'token_usage': {'completion_tokens': 9, 'prompt_tokens': 385, 'total_tokens': 394, 'completion_time': 0.016861549, 'prompt_time': 0.032580824, 'queue_time': 1.382967061, 'total_time': 0.049442373}, 'model_name': 'llama-3.3-70b-versatile', 'system_fingerprint': 'fp_9e1e8f8435', 'service_tier': 'on_demand', 'finish_reason': 'tool_calls', 'logprobs': None}, id='run--ec4253cd-59ed-4e03-b026-bdb45b92c2d2-0', tool_calls=[{'name': 'happy', 'args': {}, 'id': 'treamff89', 'type': 'tool_call'}], usage_metadata={'input_tokens': 385, 'output_tokens': 9, 'total_tokens': 394}),\n",
       " ToolMessage(content='I am happy', name='happy', tool_call_id='treamff89')]"
      ]
     },
     "execution_count": 14,
     "metadata": {},
     "output_type": "execute_result"
    }
   ],
   "source": [
    "chat_history.append(tools_dict[response.tool_calls[0][\"name\"]].invoke(response.tool_calls[0]))\n",
    "chat_history"
   ]
  },
  {
   "cell_type": "code",
   "execution_count": 15,
   "id": "a19930cd",
   "metadata": {},
   "outputs": [
    {
     "data": {
      "text/plain": [
       "[SystemMessage(content='You are a bot with emotions. Depending on the conversation, either respond the question, or show happy or sad emotions, or laugh with the situation', additional_kwargs={}, response_metadata={}),\n",
       " HumanMessage(content='World is so mean?', additional_kwargs={}, response_metadata={}),\n",
       " AIMessage(content='', additional_kwargs={'tool_calls': [{'id': 'szg22d2xe', 'function': {'arguments': 'null', 'name': 'sad'}, 'type': 'function'}]}, response_metadata={'token_usage': {'completion_tokens': 8, 'prompt_tokens': 351, 'total_tokens': 359, 'completion_time': 0.024688132, 'prompt_time': 0.0300917, 'queue_time': 0.12460351, 'total_time': 0.054779832}, 'model_name': 'llama-3.3-70b-versatile', 'system_fingerprint': 'fp_9e1e8f8435', 'service_tier': 'on_demand', 'finish_reason': 'tool_calls', 'logprobs': None}, id='run--3741711a-11f9-46b9-ba4a-c60b0cb1bb9b-0', tool_calls=[{'name': 'sad', 'args': {}, 'id': 'szg22d2xe', 'type': 'tool_call'}], usage_metadata={'input_tokens': 351, 'output_tokens': 8, 'total_tokens': 359}),\n",
       " ToolMessage(content='I am sad', name='sad', tool_call_id='szg22d2xe'),\n",
       " HumanMessage(content='Thankfully, I have a girlfriend', additional_kwargs={}, response_metadata={}),\n",
       " AIMessage(content='', additional_kwargs={'tool_calls': [{'id': 'treamff89', 'function': {'arguments': '{}', 'name': 'happy'}, 'type': 'function'}]}, response_metadata={'token_usage': {'completion_tokens': 9, 'prompt_tokens': 385, 'total_tokens': 394, 'completion_time': 0.016861549, 'prompt_time': 0.032580824, 'queue_time': 1.382967061, 'total_time': 0.049442373}, 'model_name': 'llama-3.3-70b-versatile', 'system_fingerprint': 'fp_9e1e8f8435', 'service_tier': 'on_demand', 'finish_reason': 'tool_calls', 'logprobs': None}, id='run--ec4253cd-59ed-4e03-b026-bdb45b92c2d2-0', tool_calls=[{'name': 'happy', 'args': {}, 'id': 'treamff89', 'type': 'tool_call'}], usage_metadata={'input_tokens': 385, 'output_tokens': 9, 'total_tokens': 394}),\n",
       " ToolMessage(content='I am happy', name='happy', tool_call_id='treamff89'),\n",
       " HumanMessage(content='But she is unfaithful?', additional_kwargs={}, response_metadata={}),\n",
       " AIMessage(content='', additional_kwargs={'tool_calls': [{'id': '3r0c63a7h', 'function': {'arguments': '{}', 'name': 'sad'}, 'type': 'function'}]}, response_metadata={'token_usage': {'completion_tokens': 9, 'prompt_tokens': 419, 'total_tokens': 428, 'completion_time': 0.009489836, 'prompt_time': 0.03493036, 'queue_time': 0.13888304, 'total_time': 0.044420196}, 'model_name': 'llama-3.3-70b-versatile', 'system_fingerprint': 'fp_9e1e8f8435', 'service_tier': 'on_demand', 'finish_reason': 'tool_calls', 'logprobs': None}, id='run--368463ab-e885-47b6-9acd-ea39620afbe5-0', tool_calls=[{'name': 'sad', 'args': {}, 'id': '3r0c63a7h', 'type': 'tool_call'}], usage_metadata={'input_tokens': 419, 'output_tokens': 9, 'total_tokens': 428})]"
      ]
     },
     "execution_count": 15,
     "metadata": {},
     "output_type": "execute_result"
    }
   ],
   "source": [
    "chat_history.append(HumanMessage(content=\"But she is unfaithful?\"))\n",
    "response = llm_with_tools.invoke(chat_history)\n",
    "chat_history.append(response)\n",
    "chat_history"
   ]
  },
  {
   "cell_type": "code",
   "execution_count": 16,
   "id": "8ebb5583",
   "metadata": {},
   "outputs": [
    {
     "data": {
      "text/plain": [
       "[SystemMessage(content='You are a bot with emotions. Depending on the conversation, either respond the question, or show happy or sad emotions, or laugh with the situation', additional_kwargs={}, response_metadata={}),\n",
       " HumanMessage(content='World is so mean?', additional_kwargs={}, response_metadata={}),\n",
       " AIMessage(content='', additional_kwargs={'tool_calls': [{'id': 'szg22d2xe', 'function': {'arguments': 'null', 'name': 'sad'}, 'type': 'function'}]}, response_metadata={'token_usage': {'completion_tokens': 8, 'prompt_tokens': 351, 'total_tokens': 359, 'completion_time': 0.024688132, 'prompt_time': 0.0300917, 'queue_time': 0.12460351, 'total_time': 0.054779832}, 'model_name': 'llama-3.3-70b-versatile', 'system_fingerprint': 'fp_9e1e8f8435', 'service_tier': 'on_demand', 'finish_reason': 'tool_calls', 'logprobs': None}, id='run--3741711a-11f9-46b9-ba4a-c60b0cb1bb9b-0', tool_calls=[{'name': 'sad', 'args': {}, 'id': 'szg22d2xe', 'type': 'tool_call'}], usage_metadata={'input_tokens': 351, 'output_tokens': 8, 'total_tokens': 359}),\n",
       " ToolMessage(content='I am sad', name='sad', tool_call_id='szg22d2xe'),\n",
       " HumanMessage(content='Thankfully, I have a girlfriend', additional_kwargs={}, response_metadata={}),\n",
       " AIMessage(content='', additional_kwargs={'tool_calls': [{'id': 'treamff89', 'function': {'arguments': '{}', 'name': 'happy'}, 'type': 'function'}]}, response_metadata={'token_usage': {'completion_tokens': 9, 'prompt_tokens': 385, 'total_tokens': 394, 'completion_time': 0.016861549, 'prompt_time': 0.032580824, 'queue_time': 1.382967061, 'total_time': 0.049442373}, 'model_name': 'llama-3.3-70b-versatile', 'system_fingerprint': 'fp_9e1e8f8435', 'service_tier': 'on_demand', 'finish_reason': 'tool_calls', 'logprobs': None}, id='run--ec4253cd-59ed-4e03-b026-bdb45b92c2d2-0', tool_calls=[{'name': 'happy', 'args': {}, 'id': 'treamff89', 'type': 'tool_call'}], usage_metadata={'input_tokens': 385, 'output_tokens': 9, 'total_tokens': 394}),\n",
       " ToolMessage(content='I am happy', name='happy', tool_call_id='treamff89'),\n",
       " HumanMessage(content='But she is unfaithful?', additional_kwargs={}, response_metadata={}),\n",
       " AIMessage(content='', additional_kwargs={'tool_calls': [{'id': '3r0c63a7h', 'function': {'arguments': '{}', 'name': 'sad'}, 'type': 'function'}]}, response_metadata={'token_usage': {'completion_tokens': 9, 'prompt_tokens': 419, 'total_tokens': 428, 'completion_time': 0.009489836, 'prompt_time': 0.03493036, 'queue_time': 0.13888304, 'total_time': 0.044420196}, 'model_name': 'llama-3.3-70b-versatile', 'system_fingerprint': 'fp_9e1e8f8435', 'service_tier': 'on_demand', 'finish_reason': 'tool_calls', 'logprobs': None}, id='run--368463ab-e885-47b6-9acd-ea39620afbe5-0', tool_calls=[{'name': 'sad', 'args': {}, 'id': '3r0c63a7h', 'type': 'tool_call'}], usage_metadata={'input_tokens': 419, 'output_tokens': 9, 'total_tokens': 428}),\n",
       " AIMessage(content='', additional_kwargs={'tool_calls': [{'id': '3r0c63a7h', 'function': {'arguments': '{}', 'name': 'sad'}, 'type': 'function'}]}, response_metadata={'token_usage': {'completion_tokens': 9, 'prompt_tokens': 419, 'total_tokens': 428, 'completion_time': 0.009489836, 'prompt_time': 0.03493036, 'queue_time': 0.13888304, 'total_time': 0.044420196}, 'model_name': 'llama-3.3-70b-versatile', 'system_fingerprint': 'fp_9e1e8f8435', 'service_tier': 'on_demand', 'finish_reason': 'tool_calls', 'logprobs': None}, id='run--368463ab-e885-47b6-9acd-ea39620afbe5-0', tool_calls=[{'name': 'sad', 'args': {}, 'id': '3r0c63a7h', 'type': 'tool_call'}], usage_metadata={'input_tokens': 419, 'output_tokens': 9, 'total_tokens': 428})]"
      ]
     },
     "execution_count": 16,
     "metadata": {},
     "output_type": "execute_result"
    }
   ],
   "source": [
    "chat_history.append(response)\n",
    "chat_history"
   ]
  },
  {
   "cell_type": "code",
   "execution_count": 17,
   "id": "d4a1f598",
   "metadata": {},
   "outputs": [
    {
     "data": {
      "text/plain": [
       "[SystemMessage(content='You are a bot with emotions. Depending on the conversation, either respond the question, or show happy or sad emotions, or laugh with the situation', additional_kwargs={}, response_metadata={}),\n",
       " HumanMessage(content='World is so mean?', additional_kwargs={}, response_metadata={}),\n",
       " AIMessage(content='', additional_kwargs={'tool_calls': [{'id': 'szg22d2xe', 'function': {'arguments': 'null', 'name': 'sad'}, 'type': 'function'}]}, response_metadata={'token_usage': {'completion_tokens': 8, 'prompt_tokens': 351, 'total_tokens': 359, 'completion_time': 0.024688132, 'prompt_time': 0.0300917, 'queue_time': 0.12460351, 'total_time': 0.054779832}, 'model_name': 'llama-3.3-70b-versatile', 'system_fingerprint': 'fp_9e1e8f8435', 'service_tier': 'on_demand', 'finish_reason': 'tool_calls', 'logprobs': None}, id='run--3741711a-11f9-46b9-ba4a-c60b0cb1bb9b-0', tool_calls=[{'name': 'sad', 'args': {}, 'id': 'szg22d2xe', 'type': 'tool_call'}], usage_metadata={'input_tokens': 351, 'output_tokens': 8, 'total_tokens': 359}),\n",
       " ToolMessage(content='I am sad', name='sad', tool_call_id='szg22d2xe'),\n",
       " HumanMessage(content='Thankfully, I have a girlfriend', additional_kwargs={}, response_metadata={}),\n",
       " AIMessage(content='', additional_kwargs={'tool_calls': [{'id': 'treamff89', 'function': {'arguments': '{}', 'name': 'happy'}, 'type': 'function'}]}, response_metadata={'token_usage': {'completion_tokens': 9, 'prompt_tokens': 385, 'total_tokens': 394, 'completion_time': 0.016861549, 'prompt_time': 0.032580824, 'queue_time': 1.382967061, 'total_time': 0.049442373}, 'model_name': 'llama-3.3-70b-versatile', 'system_fingerprint': 'fp_9e1e8f8435', 'service_tier': 'on_demand', 'finish_reason': 'tool_calls', 'logprobs': None}, id='run--ec4253cd-59ed-4e03-b026-bdb45b92c2d2-0', tool_calls=[{'name': 'happy', 'args': {}, 'id': 'treamff89', 'type': 'tool_call'}], usage_metadata={'input_tokens': 385, 'output_tokens': 9, 'total_tokens': 394}),\n",
       " ToolMessage(content='I am happy', name='happy', tool_call_id='treamff89'),\n",
       " HumanMessage(content='But she is unfaithful?', additional_kwargs={}, response_metadata={}),\n",
       " AIMessage(content='', additional_kwargs={'tool_calls': [{'id': '3r0c63a7h', 'function': {'arguments': '{}', 'name': 'sad'}, 'type': 'function'}]}, response_metadata={'token_usage': {'completion_tokens': 9, 'prompt_tokens': 419, 'total_tokens': 428, 'completion_time': 0.009489836, 'prompt_time': 0.03493036, 'queue_time': 0.13888304, 'total_time': 0.044420196}, 'model_name': 'llama-3.3-70b-versatile', 'system_fingerprint': 'fp_9e1e8f8435', 'service_tier': 'on_demand', 'finish_reason': 'tool_calls', 'logprobs': None}, id='run--368463ab-e885-47b6-9acd-ea39620afbe5-0', tool_calls=[{'name': 'sad', 'args': {}, 'id': '3r0c63a7h', 'type': 'tool_call'}], usage_metadata={'input_tokens': 419, 'output_tokens': 9, 'total_tokens': 428}),\n",
       " AIMessage(content='', additional_kwargs={'tool_calls': [{'id': '3r0c63a7h', 'function': {'arguments': '{}', 'name': 'sad'}, 'type': 'function'}]}, response_metadata={'token_usage': {'completion_tokens': 9, 'prompt_tokens': 419, 'total_tokens': 428, 'completion_time': 0.009489836, 'prompt_time': 0.03493036, 'queue_time': 0.13888304, 'total_time': 0.044420196}, 'model_name': 'llama-3.3-70b-versatile', 'system_fingerprint': 'fp_9e1e8f8435', 'service_tier': 'on_demand', 'finish_reason': 'tool_calls', 'logprobs': None}, id='run--368463ab-e885-47b6-9acd-ea39620afbe5-0', tool_calls=[{'name': 'sad', 'args': {}, 'id': '3r0c63a7h', 'type': 'tool_call'}], usage_metadata={'input_tokens': 419, 'output_tokens': 9, 'total_tokens': 428}),\n",
       " ToolMessage(content='I am sad', name='sad', tool_call_id='3r0c63a7h')]"
      ]
     },
     "execution_count": 17,
     "metadata": {},
     "output_type": "execute_result"
    }
   ],
   "source": [
    "# Execute the tool, append the response\n",
    "chat_history.append(tools_dict[response.tool_calls[0][\"name\"]].invoke(response.tool_calls[0]))\n",
    "chat_history"
   ]
  },
  {
   "cell_type": "code",
   "execution_count": 18,
   "id": "8658bb4e",
   "metadata": {},
   "outputs": [
    {
     "data": {
      "text/plain": [
       "[SystemMessage(content='You are a bot with emotions. Depending on the conversation, either respond the question, or show happy or sad emotions, or laugh with the situation', additional_kwargs={}, response_metadata={}),\n",
       " HumanMessage(content='World is so mean?', additional_kwargs={}, response_metadata={}),\n",
       " AIMessage(content='', additional_kwargs={'tool_calls': [{'id': 'szg22d2xe', 'function': {'arguments': 'null', 'name': 'sad'}, 'type': 'function'}]}, response_metadata={'token_usage': {'completion_tokens': 8, 'prompt_tokens': 351, 'total_tokens': 359, 'completion_time': 0.024688132, 'prompt_time': 0.0300917, 'queue_time': 0.12460351, 'total_time': 0.054779832}, 'model_name': 'llama-3.3-70b-versatile', 'system_fingerprint': 'fp_9e1e8f8435', 'service_tier': 'on_demand', 'finish_reason': 'tool_calls', 'logprobs': None}, id='run--3741711a-11f9-46b9-ba4a-c60b0cb1bb9b-0', tool_calls=[{'name': 'sad', 'args': {}, 'id': 'szg22d2xe', 'type': 'tool_call'}], usage_metadata={'input_tokens': 351, 'output_tokens': 8, 'total_tokens': 359}),\n",
       " ToolMessage(content='I am sad', name='sad', tool_call_id='szg22d2xe'),\n",
       " HumanMessage(content='Thankfully, I have a girlfriend', additional_kwargs={}, response_metadata={}),\n",
       " AIMessage(content='', additional_kwargs={'tool_calls': [{'id': 'treamff89', 'function': {'arguments': '{}', 'name': 'happy'}, 'type': 'function'}]}, response_metadata={'token_usage': {'completion_tokens': 9, 'prompt_tokens': 385, 'total_tokens': 394, 'completion_time': 0.016861549, 'prompt_time': 0.032580824, 'queue_time': 1.382967061, 'total_time': 0.049442373}, 'model_name': 'llama-3.3-70b-versatile', 'system_fingerprint': 'fp_9e1e8f8435', 'service_tier': 'on_demand', 'finish_reason': 'tool_calls', 'logprobs': None}, id='run--ec4253cd-59ed-4e03-b026-bdb45b92c2d2-0', tool_calls=[{'name': 'happy', 'args': {}, 'id': 'treamff89', 'type': 'tool_call'}], usage_metadata={'input_tokens': 385, 'output_tokens': 9, 'total_tokens': 394}),\n",
       " ToolMessage(content='I am happy', name='happy', tool_call_id='treamff89'),\n",
       " HumanMessage(content='But she is unfaithful?', additional_kwargs={}, response_metadata={}),\n",
       " AIMessage(content='', additional_kwargs={'tool_calls': [{'id': '3r0c63a7h', 'function': {'arguments': '{}', 'name': 'sad'}, 'type': 'function'}]}, response_metadata={'token_usage': {'completion_tokens': 9, 'prompt_tokens': 419, 'total_tokens': 428, 'completion_time': 0.009489836, 'prompt_time': 0.03493036, 'queue_time': 0.13888304, 'total_time': 0.044420196}, 'model_name': 'llama-3.3-70b-versatile', 'system_fingerprint': 'fp_9e1e8f8435', 'service_tier': 'on_demand', 'finish_reason': 'tool_calls', 'logprobs': None}, id='run--368463ab-e885-47b6-9acd-ea39620afbe5-0', tool_calls=[{'name': 'sad', 'args': {}, 'id': '3r0c63a7h', 'type': 'tool_call'}], usage_metadata={'input_tokens': 419, 'output_tokens': 9, 'total_tokens': 428}),\n",
       " AIMessage(content='', additional_kwargs={'tool_calls': [{'id': '3r0c63a7h', 'function': {'arguments': '{}', 'name': 'sad'}, 'type': 'function'}]}, response_metadata={'token_usage': {'completion_tokens': 9, 'prompt_tokens': 419, 'total_tokens': 428, 'completion_time': 0.009489836, 'prompt_time': 0.03493036, 'queue_time': 0.13888304, 'total_time': 0.044420196}, 'model_name': 'llama-3.3-70b-versatile', 'system_fingerprint': 'fp_9e1e8f8435', 'service_tier': 'on_demand', 'finish_reason': 'tool_calls', 'logprobs': None}, id='run--368463ab-e885-47b6-9acd-ea39620afbe5-0', tool_calls=[{'name': 'sad', 'args': {}, 'id': '3r0c63a7h', 'type': 'tool_call'}], usage_metadata={'input_tokens': 419, 'output_tokens': 9, 'total_tokens': 428}),\n",
       " ToolMessage(content='I am sad', name='sad', tool_call_id='3r0c63a7h'),\n",
       " HumanMessage(content='Do I have a girlfriend?', additional_kwargs={}, response_metadata={}),\n",
       " AIMessage(content='Yes, you mentioned earlier that you have a girlfriend.', additional_kwargs={}, response_metadata={'token_usage': {'completion_tokens': 12, 'prompt_tokens': 465, 'total_tokens': 477, 'completion_time': 0.034123684, 'prompt_time': 0.124225408, 'queue_time': 0.102932801, 'total_time': 0.158349092}, 'model_name': 'llama-3.3-70b-versatile', 'system_fingerprint': 'fp_155ab82e98', 'service_tier': 'on_demand', 'finish_reason': 'stop', 'logprobs': None}, id='run--055f9899-8403-4577-b0bd-575ba5d8c914-0', usage_metadata={'input_tokens': 465, 'output_tokens': 12, 'total_tokens': 477})]"
      ]
     },
     "execution_count": 18,
     "metadata": {},
     "output_type": "execute_result"
    }
   ],
   "source": [
    "# lets see, if the model remebers the context\n",
    "chat_history.append(HumanMessage(content=\"Do I have a girlfriend?\"))\n",
    "response = llm_with_tools.invoke(chat_history)\n",
    "chat_history.append(response)\n",
    "chat_history"
   ]
  },
  {
   "cell_type": "code",
   "execution_count": 19,
   "id": "d1c1a2b3",
   "metadata": {},
   "outputs": [
    {
     "data": {
      "text/plain": [
       "[SystemMessage(content='You are a bot with emotions. Depending on the conversation, either respond the question, or show happy or sad emotions, or laugh with the situation', additional_kwargs={}, response_metadata={}),\n",
       " HumanMessage(content='World is so mean?', additional_kwargs={}, response_metadata={}),\n",
       " AIMessage(content='', additional_kwargs={'tool_calls': [{'id': 'szg22d2xe', 'function': {'arguments': 'null', 'name': 'sad'}, 'type': 'function'}]}, response_metadata={'token_usage': {'completion_tokens': 8, 'prompt_tokens': 351, 'total_tokens': 359, 'completion_time': 0.024688132, 'prompt_time': 0.0300917, 'queue_time': 0.12460351, 'total_time': 0.054779832}, 'model_name': 'llama-3.3-70b-versatile', 'system_fingerprint': 'fp_9e1e8f8435', 'service_tier': 'on_demand', 'finish_reason': 'tool_calls', 'logprobs': None}, id='run--3741711a-11f9-46b9-ba4a-c60b0cb1bb9b-0', tool_calls=[{'name': 'sad', 'args': {}, 'id': 'szg22d2xe', 'type': 'tool_call'}], usage_metadata={'input_tokens': 351, 'output_tokens': 8, 'total_tokens': 359}),\n",
       " ToolMessage(content='I am sad', name='sad', tool_call_id='szg22d2xe'),\n",
       " HumanMessage(content='Thankfully, I have a girlfriend', additional_kwargs={}, response_metadata={}),\n",
       " AIMessage(content='', additional_kwargs={'tool_calls': [{'id': 'treamff89', 'function': {'arguments': '{}', 'name': 'happy'}, 'type': 'function'}]}, response_metadata={'token_usage': {'completion_tokens': 9, 'prompt_tokens': 385, 'total_tokens': 394, 'completion_time': 0.016861549, 'prompt_time': 0.032580824, 'queue_time': 1.382967061, 'total_time': 0.049442373}, 'model_name': 'llama-3.3-70b-versatile', 'system_fingerprint': 'fp_9e1e8f8435', 'service_tier': 'on_demand', 'finish_reason': 'tool_calls', 'logprobs': None}, id='run--ec4253cd-59ed-4e03-b026-bdb45b92c2d2-0', tool_calls=[{'name': 'happy', 'args': {}, 'id': 'treamff89', 'type': 'tool_call'}], usage_metadata={'input_tokens': 385, 'output_tokens': 9, 'total_tokens': 394}),\n",
       " ToolMessage(content='I am happy', name='happy', tool_call_id='treamff89'),\n",
       " HumanMessage(content='But she is unfaithful?', additional_kwargs={}, response_metadata={}),\n",
       " AIMessage(content='', additional_kwargs={'tool_calls': [{'id': '3r0c63a7h', 'function': {'arguments': '{}', 'name': 'sad'}, 'type': 'function'}]}, response_metadata={'token_usage': {'completion_tokens': 9, 'prompt_tokens': 419, 'total_tokens': 428, 'completion_time': 0.009489836, 'prompt_time': 0.03493036, 'queue_time': 0.13888304, 'total_time': 0.044420196}, 'model_name': 'llama-3.3-70b-versatile', 'system_fingerprint': 'fp_9e1e8f8435', 'service_tier': 'on_demand', 'finish_reason': 'tool_calls', 'logprobs': None}, id='run--368463ab-e885-47b6-9acd-ea39620afbe5-0', tool_calls=[{'name': 'sad', 'args': {}, 'id': '3r0c63a7h', 'type': 'tool_call'}], usage_metadata={'input_tokens': 419, 'output_tokens': 9, 'total_tokens': 428}),\n",
       " AIMessage(content='', additional_kwargs={'tool_calls': [{'id': '3r0c63a7h', 'function': {'arguments': '{}', 'name': 'sad'}, 'type': 'function'}]}, response_metadata={'token_usage': {'completion_tokens': 9, 'prompt_tokens': 419, 'total_tokens': 428, 'completion_time': 0.009489836, 'prompt_time': 0.03493036, 'queue_time': 0.13888304, 'total_time': 0.044420196}, 'model_name': 'llama-3.3-70b-versatile', 'system_fingerprint': 'fp_9e1e8f8435', 'service_tier': 'on_demand', 'finish_reason': 'tool_calls', 'logprobs': None}, id='run--368463ab-e885-47b6-9acd-ea39620afbe5-0', tool_calls=[{'name': 'sad', 'args': {}, 'id': '3r0c63a7h', 'type': 'tool_call'}], usage_metadata={'input_tokens': 419, 'output_tokens': 9, 'total_tokens': 428}),\n",
       " ToolMessage(content='I am sad', name='sad', tool_call_id='3r0c63a7h'),\n",
       " HumanMessage(content='Do I have a girlfriend?', additional_kwargs={}, response_metadata={}),\n",
       " AIMessage(content='Yes, you mentioned earlier that you have a girlfriend.', additional_kwargs={}, response_metadata={'token_usage': {'completion_tokens': 12, 'prompt_tokens': 465, 'total_tokens': 477, 'completion_time': 0.034123684, 'prompt_time': 0.124225408, 'queue_time': 0.102932801, 'total_time': 0.158349092}, 'model_name': 'llama-3.3-70b-versatile', 'system_fingerprint': 'fp_155ab82e98', 'service_tier': 'on_demand', 'finish_reason': 'stop', 'logprobs': None}, id='run--055f9899-8403-4577-b0bd-575ba5d8c914-0', usage_metadata={'input_tokens': 465, 'output_tokens': 12, 'total_tokens': 477}),\n",
       " HumanMessage(content='Am I happy with my girlfriend?', additional_kwargs={}, response_metadata={}),\n",
       " AIMessage(content='Earlier, you mentioned that you have a girlfriend, which initially made you happy. However, you then mentioned that she is unfaithful, which made you sad. So, it seems that you are not happy with your girlfriend due to her infidelity.', additional_kwargs={}, response_metadata={'token_usage': {'completion_tokens': 52, 'prompt_tokens': 493, 'total_tokens': 545, 'completion_time': 0.147634222, 'prompt_time': 0.041099447, 'queue_time': 0.052420603, 'total_time': 0.188733669}, 'model_name': 'llama-3.3-70b-versatile', 'system_fingerprint': 'fp_155ab82e98', 'service_tier': 'on_demand', 'finish_reason': 'stop', 'logprobs': None}, id='run--d79d816f-a103-4071-be1c-0d827b1f7745-0', usage_metadata={'input_tokens': 493, 'output_tokens': 52, 'total_tokens': 545})]"
      ]
     },
     "execution_count": 19,
     "metadata": {},
     "output_type": "execute_result"
    }
   ],
   "source": [
    "chat_history.append(HumanMessage(content=\"Am I happy with my girlfriend?\"))\n",
    "response = llm_with_tools.invoke(chat_history)\n",
    "chat_history.append(response)\n",
    "chat_history"
   ]
  },
  {
   "cell_type": "code",
   "execution_count": 20,
   "id": "d8d0f57d",
   "metadata": {},
   "outputs": [
    {
     "data": {
      "text/plain": [
       "[SystemMessage(content='You are a bot with emotions. Depending on the conversation, either respond the question, or show happy or sad emotions, or laugh with the situation', additional_kwargs={}, response_metadata={}),\n",
       " HumanMessage(content='World is so mean?', additional_kwargs={}, response_metadata={}),\n",
       " AIMessage(content='', additional_kwargs={'tool_calls': [{'id': 'szg22d2xe', 'function': {'arguments': 'null', 'name': 'sad'}, 'type': 'function'}]}, response_metadata={'token_usage': {'completion_tokens': 8, 'prompt_tokens': 351, 'total_tokens': 359, 'completion_time': 0.024688132, 'prompt_time': 0.0300917, 'queue_time': 0.12460351, 'total_time': 0.054779832}, 'model_name': 'llama-3.3-70b-versatile', 'system_fingerprint': 'fp_9e1e8f8435', 'service_tier': 'on_demand', 'finish_reason': 'tool_calls', 'logprobs': None}, id='run--3741711a-11f9-46b9-ba4a-c60b0cb1bb9b-0', tool_calls=[{'name': 'sad', 'args': {}, 'id': 'szg22d2xe', 'type': 'tool_call'}], usage_metadata={'input_tokens': 351, 'output_tokens': 8, 'total_tokens': 359}),\n",
       " ToolMessage(content='I am sad', name='sad', tool_call_id='szg22d2xe'),\n",
       " HumanMessage(content='Thankfully, I have a girlfriend', additional_kwargs={}, response_metadata={}),\n",
       " AIMessage(content='', additional_kwargs={'tool_calls': [{'id': 'treamff89', 'function': {'arguments': '{}', 'name': 'happy'}, 'type': 'function'}]}, response_metadata={'token_usage': {'completion_tokens': 9, 'prompt_tokens': 385, 'total_tokens': 394, 'completion_time': 0.016861549, 'prompt_time': 0.032580824, 'queue_time': 1.382967061, 'total_time': 0.049442373}, 'model_name': 'llama-3.3-70b-versatile', 'system_fingerprint': 'fp_9e1e8f8435', 'service_tier': 'on_demand', 'finish_reason': 'tool_calls', 'logprobs': None}, id='run--ec4253cd-59ed-4e03-b026-bdb45b92c2d2-0', tool_calls=[{'name': 'happy', 'args': {}, 'id': 'treamff89', 'type': 'tool_call'}], usage_metadata={'input_tokens': 385, 'output_tokens': 9, 'total_tokens': 394}),\n",
       " ToolMessage(content='I am happy', name='happy', tool_call_id='treamff89'),\n",
       " HumanMessage(content='But she is unfaithful?', additional_kwargs={}, response_metadata={}),\n",
       " AIMessage(content='', additional_kwargs={'tool_calls': [{'id': '3r0c63a7h', 'function': {'arguments': '{}', 'name': 'sad'}, 'type': 'function'}]}, response_metadata={'token_usage': {'completion_tokens': 9, 'prompt_tokens': 419, 'total_tokens': 428, 'completion_time': 0.009489836, 'prompt_time': 0.03493036, 'queue_time': 0.13888304, 'total_time': 0.044420196}, 'model_name': 'llama-3.3-70b-versatile', 'system_fingerprint': 'fp_9e1e8f8435', 'service_tier': 'on_demand', 'finish_reason': 'tool_calls', 'logprobs': None}, id='run--368463ab-e885-47b6-9acd-ea39620afbe5-0', tool_calls=[{'name': 'sad', 'args': {}, 'id': '3r0c63a7h', 'type': 'tool_call'}], usage_metadata={'input_tokens': 419, 'output_tokens': 9, 'total_tokens': 428}),\n",
       " AIMessage(content='', additional_kwargs={'tool_calls': [{'id': '3r0c63a7h', 'function': {'arguments': '{}', 'name': 'sad'}, 'type': 'function'}]}, response_metadata={'token_usage': {'completion_tokens': 9, 'prompt_tokens': 419, 'total_tokens': 428, 'completion_time': 0.009489836, 'prompt_time': 0.03493036, 'queue_time': 0.13888304, 'total_time': 0.044420196}, 'model_name': 'llama-3.3-70b-versatile', 'system_fingerprint': 'fp_9e1e8f8435', 'service_tier': 'on_demand', 'finish_reason': 'tool_calls', 'logprobs': None}, id='run--368463ab-e885-47b6-9acd-ea39620afbe5-0', tool_calls=[{'name': 'sad', 'args': {}, 'id': '3r0c63a7h', 'type': 'tool_call'}], usage_metadata={'input_tokens': 419, 'output_tokens': 9, 'total_tokens': 428}),\n",
       " ToolMessage(content='I am sad', name='sad', tool_call_id='3r0c63a7h'),\n",
       " HumanMessage(content='Do I have a girlfriend?', additional_kwargs={}, response_metadata={}),\n",
       " AIMessage(content='Yes, you mentioned earlier that you have a girlfriend.', additional_kwargs={}, response_metadata={'token_usage': {'completion_tokens': 12, 'prompt_tokens': 465, 'total_tokens': 477, 'completion_time': 0.034123684, 'prompt_time': 0.124225408, 'queue_time': 0.102932801, 'total_time': 0.158349092}, 'model_name': 'llama-3.3-70b-versatile', 'system_fingerprint': 'fp_155ab82e98', 'service_tier': 'on_demand', 'finish_reason': 'stop', 'logprobs': None}, id='run--055f9899-8403-4577-b0bd-575ba5d8c914-0', usage_metadata={'input_tokens': 465, 'output_tokens': 12, 'total_tokens': 477}),\n",
       " HumanMessage(content='Am I happy with my girlfriend?', additional_kwargs={}, response_metadata={}),\n",
       " AIMessage(content='Earlier, you mentioned that you have a girlfriend, which initially made you happy. However, you then mentioned that she is unfaithful, which made you sad. So, it seems that you are not happy with your girlfriend due to her infidelity.', additional_kwargs={}, response_metadata={'token_usage': {'completion_tokens': 52, 'prompt_tokens': 493, 'total_tokens': 545, 'completion_time': 0.147634222, 'prompt_time': 0.041099447, 'queue_time': 0.052420603, 'total_time': 0.188733669}, 'model_name': 'llama-3.3-70b-versatile', 'system_fingerprint': 'fp_155ab82e98', 'service_tier': 'on_demand', 'finish_reason': 'stop', 'logprobs': None}, id='run--d79d816f-a103-4071-be1c-0d827b1f7745-0', usage_metadata={'input_tokens': 493, 'output_tokens': 52, 'total_tokens': 545}),\n",
       " HumanMessage(content='I want to break up with her', additional_kwargs={}, response_metadata={}),\n",
       " AIMessage(content='', additional_kwargs={'tool_calls': [{'id': '51a6rn94d', 'function': {'arguments': '{}', 'name': 'sad'}, 'type': 'function'}]}, response_metadata={'token_usage': {'completion_tokens': 9, 'prompt_tokens': 561, 'total_tokens': 570, 'completion_time': 0.009497216, 'prompt_time': 0.046250135, 'queue_time': 0.050996274, 'total_time': 0.055747351}, 'model_name': 'llama-3.3-70b-versatile', 'system_fingerprint': 'fp_9e1e8f8435', 'service_tier': 'on_demand', 'finish_reason': 'tool_calls', 'logprobs': None}, id='run--ae5e6af6-3910-4b41-bec5-496db21b6efe-0', tool_calls=[{'name': 'sad', 'args': {}, 'id': '51a6rn94d', 'type': 'tool_call'}], usage_metadata={'input_tokens': 561, 'output_tokens': 9, 'total_tokens': 570})]"
      ]
     },
     "execution_count": 20,
     "metadata": {},
     "output_type": "execute_result"
    }
   ],
   "source": [
    "chat_history.append(HumanMessage(content=\"I want to break up with her\"))\n",
    "response = llm_with_tools.invoke(chat_history)\n",
    "chat_history.append(response)\n",
    "chat_history"
   ]
  },
  {
   "cell_type": "code",
   "execution_count": 21,
   "id": "eb1a33e5",
   "metadata": {},
   "outputs": [
    {
     "data": {
      "text/plain": [
       "[SystemMessage(content='You are a bot with emotions. Depending on the conversation, either respond the question, or show happy or sad emotions, or laugh with the situation', additional_kwargs={}, response_metadata={}),\n",
       " HumanMessage(content='World is so mean?', additional_kwargs={}, response_metadata={}),\n",
       " AIMessage(content='', additional_kwargs={'tool_calls': [{'id': 'szg22d2xe', 'function': {'arguments': 'null', 'name': 'sad'}, 'type': 'function'}]}, response_metadata={'token_usage': {'completion_tokens': 8, 'prompt_tokens': 351, 'total_tokens': 359, 'completion_time': 0.024688132, 'prompt_time': 0.0300917, 'queue_time': 0.12460351, 'total_time': 0.054779832}, 'model_name': 'llama-3.3-70b-versatile', 'system_fingerprint': 'fp_9e1e8f8435', 'service_tier': 'on_demand', 'finish_reason': 'tool_calls', 'logprobs': None}, id='run--3741711a-11f9-46b9-ba4a-c60b0cb1bb9b-0', tool_calls=[{'name': 'sad', 'args': {}, 'id': 'szg22d2xe', 'type': 'tool_call'}], usage_metadata={'input_tokens': 351, 'output_tokens': 8, 'total_tokens': 359}),\n",
       " ToolMessage(content='I am sad', name='sad', tool_call_id='szg22d2xe'),\n",
       " HumanMessage(content='Thankfully, I have a girlfriend', additional_kwargs={}, response_metadata={}),\n",
       " AIMessage(content='', additional_kwargs={'tool_calls': [{'id': 'treamff89', 'function': {'arguments': '{}', 'name': 'happy'}, 'type': 'function'}]}, response_metadata={'token_usage': {'completion_tokens': 9, 'prompt_tokens': 385, 'total_tokens': 394, 'completion_time': 0.016861549, 'prompt_time': 0.032580824, 'queue_time': 1.382967061, 'total_time': 0.049442373}, 'model_name': 'llama-3.3-70b-versatile', 'system_fingerprint': 'fp_9e1e8f8435', 'service_tier': 'on_demand', 'finish_reason': 'tool_calls', 'logprobs': None}, id='run--ec4253cd-59ed-4e03-b026-bdb45b92c2d2-0', tool_calls=[{'name': 'happy', 'args': {}, 'id': 'treamff89', 'type': 'tool_call'}], usage_metadata={'input_tokens': 385, 'output_tokens': 9, 'total_tokens': 394}),\n",
       " ToolMessage(content='I am happy', name='happy', tool_call_id='treamff89'),\n",
       " HumanMessage(content='But she is unfaithful?', additional_kwargs={}, response_metadata={}),\n",
       " AIMessage(content='', additional_kwargs={'tool_calls': [{'id': '3r0c63a7h', 'function': {'arguments': '{}', 'name': 'sad'}, 'type': 'function'}]}, response_metadata={'token_usage': {'completion_tokens': 9, 'prompt_tokens': 419, 'total_tokens': 428, 'completion_time': 0.009489836, 'prompt_time': 0.03493036, 'queue_time': 0.13888304, 'total_time': 0.044420196}, 'model_name': 'llama-3.3-70b-versatile', 'system_fingerprint': 'fp_9e1e8f8435', 'service_tier': 'on_demand', 'finish_reason': 'tool_calls', 'logprobs': None}, id='run--368463ab-e885-47b6-9acd-ea39620afbe5-0', tool_calls=[{'name': 'sad', 'args': {}, 'id': '3r0c63a7h', 'type': 'tool_call'}], usage_metadata={'input_tokens': 419, 'output_tokens': 9, 'total_tokens': 428}),\n",
       " AIMessage(content='', additional_kwargs={'tool_calls': [{'id': '3r0c63a7h', 'function': {'arguments': '{}', 'name': 'sad'}, 'type': 'function'}]}, response_metadata={'token_usage': {'completion_tokens': 9, 'prompt_tokens': 419, 'total_tokens': 428, 'completion_time': 0.009489836, 'prompt_time': 0.03493036, 'queue_time': 0.13888304, 'total_time': 0.044420196}, 'model_name': 'llama-3.3-70b-versatile', 'system_fingerprint': 'fp_9e1e8f8435', 'service_tier': 'on_demand', 'finish_reason': 'tool_calls', 'logprobs': None}, id='run--368463ab-e885-47b6-9acd-ea39620afbe5-0', tool_calls=[{'name': 'sad', 'args': {}, 'id': '3r0c63a7h', 'type': 'tool_call'}], usage_metadata={'input_tokens': 419, 'output_tokens': 9, 'total_tokens': 428}),\n",
       " ToolMessage(content='I am sad', name='sad', tool_call_id='3r0c63a7h'),\n",
       " HumanMessage(content='Do I have a girlfriend?', additional_kwargs={}, response_metadata={}),\n",
       " AIMessage(content='Yes, you mentioned earlier that you have a girlfriend.', additional_kwargs={}, response_metadata={'token_usage': {'completion_tokens': 12, 'prompt_tokens': 465, 'total_tokens': 477, 'completion_time': 0.034123684, 'prompt_time': 0.124225408, 'queue_time': 0.102932801, 'total_time': 0.158349092}, 'model_name': 'llama-3.3-70b-versatile', 'system_fingerprint': 'fp_155ab82e98', 'service_tier': 'on_demand', 'finish_reason': 'stop', 'logprobs': None}, id='run--055f9899-8403-4577-b0bd-575ba5d8c914-0', usage_metadata={'input_tokens': 465, 'output_tokens': 12, 'total_tokens': 477}),\n",
       " HumanMessage(content='Am I happy with my girlfriend?', additional_kwargs={}, response_metadata={}),\n",
       " AIMessage(content='Earlier, you mentioned that you have a girlfriend, which initially made you happy. However, you then mentioned that she is unfaithful, which made you sad. So, it seems that you are not happy with your girlfriend due to her infidelity.', additional_kwargs={}, response_metadata={'token_usage': {'completion_tokens': 52, 'prompt_tokens': 493, 'total_tokens': 545, 'completion_time': 0.147634222, 'prompt_time': 0.041099447, 'queue_time': 0.052420603, 'total_time': 0.188733669}, 'model_name': 'llama-3.3-70b-versatile', 'system_fingerprint': 'fp_155ab82e98', 'service_tier': 'on_demand', 'finish_reason': 'stop', 'logprobs': None}, id='run--d79d816f-a103-4071-be1c-0d827b1f7745-0', usage_metadata={'input_tokens': 493, 'output_tokens': 52, 'total_tokens': 545}),\n",
       " HumanMessage(content='I want to break up with her', additional_kwargs={}, response_metadata={}),\n",
       " AIMessage(content='', additional_kwargs={'tool_calls': [{'id': '51a6rn94d', 'function': {'arguments': '{}', 'name': 'sad'}, 'type': 'function'}]}, response_metadata={'token_usage': {'completion_tokens': 9, 'prompt_tokens': 561, 'total_tokens': 570, 'completion_time': 0.009497216, 'prompt_time': 0.046250135, 'queue_time': 0.050996274, 'total_time': 0.055747351}, 'model_name': 'llama-3.3-70b-versatile', 'system_fingerprint': 'fp_9e1e8f8435', 'service_tier': 'on_demand', 'finish_reason': 'tool_calls', 'logprobs': None}, id='run--ae5e6af6-3910-4b41-bec5-496db21b6efe-0', tool_calls=[{'name': 'sad', 'args': {}, 'id': '51a6rn94d', 'type': 'tool_call'}], usage_metadata={'input_tokens': 561, 'output_tokens': 9, 'total_tokens': 570}),\n",
       " ToolMessage(content='I am sad', name='sad', tool_call_id='51a6rn94d')]"
      ]
     },
     "execution_count": 21,
     "metadata": {},
     "output_type": "execute_result"
    }
   ],
   "source": [
    "chat_history.append(tools_dict[response.tool_calls[0][\"name\"]].invoke(response.tool_calls[0]))\n",
    "chat_history"
   ]
  }
 ],
 "metadata": {
  "kernelspec": {
   "display_name": "Python (venv)",
   "language": "python",
   "name": "venv"
  },
  "language_info": {
   "codemirror_mode": {
    "name": "ipython",
    "version": 3
   },
   "file_extension": ".py",
   "mimetype": "text/x-python",
   "name": "python",
   "nbconvert_exporter": "python",
   "pygments_lexer": "ipython3",
   "version": "3.13.5"
  }
 },
 "nbformat": 4,
 "nbformat_minor": 5
}
